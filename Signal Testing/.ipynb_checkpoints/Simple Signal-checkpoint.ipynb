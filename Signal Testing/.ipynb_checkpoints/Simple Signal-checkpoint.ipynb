{
 "cells": [
  {
   "cell_type": "code",
   "execution_count": 1,
   "metadata": {},
   "outputs": [],
   "source": [
    "import sys\n",
    "sys.path.append('..')\n",
    "\n",
    "import matplotlib.pyplot as plt\n",
    "import MySignal as sig\n",
    "\n",
    "import pandas as pd\n",
    "import numpy as np\n",
    "import matplotlib.pyplot as plt"
   ]
  },
  {
   "cell_type": "code",
   "execution_count": 2,
   "metadata": {},
   "outputs": [],
   "source": [
    "class StandardizedRollingGrowth(sig.Indicator):\n",
    "    def __init__(self, series_names, weights_dict, n_periods=130):\n",
    "        super(StandardizedRollingGrowth, self).__init__(series_names)\n",
    "        self.weights_dict = weights_dict\n",
    "        self.n_periods = n_periods\n",
    "\n",
    "    def combine_series(self, series_up_to_date):\n",
    "        weighted_values = {}\n",
    "        for series_name in series_up_to_date.keys():\n",
    "            weighted_values[series_name] = (self.weights_dict[series_name] *\n",
    "                                            sig.standardize(series_up_to_date[series_name].pct_change().rolling(\n",
    "                                                self.n_periods, self.n_periods).apply(lambda x: (1+x).prod()-1)).iloc[-1],\n",
    "                                           raw=True)\n",
    "        return sum(weighted_values.values()) / sum(self.weights_dict.values())"
   ]
  },
  {
   "cell_type": "code",
   "execution_count": 3,
   "metadata": {},
   "outputs": [],
   "source": [
    "countries=['USA']\n",
    "beg_date, end_date = ('1995-01-01', '2005-12-31')\n",
    "\n",
    "inflation_indicator = StandardizedRollingGrowth(series_names=['CoreCPI/SA'],\n",
    "                                          weights_dict={'CoreCPI/SA': 1})\n",
    "inflation_signal = sig.SigmoidNormalizerSignal(indicators_dict={'inflation': inflation_indicator},\n",
    "                                            weights_dict={'inflation': 1})"
   ]
  },
  {
   "cell_type": "code",
   "execution_count": null,
   "metadata": {},
   "outputs": [
    {
     "name": "stderr",
     "output_type": "stream",
     "text": [
      "/Users/rogerio/.local/share/virtualenvs/Intership2020-c3F2SfGl/lib/python3.6/site-packages/ipykernel_launcher.py:12: FutureWarning: Currently, 'apply' passes the values as ndarrays to the applied function. In the future, this will change to passing it as Series objects. You need to specify 'raw=True' to keep the current behaviour, and you can pass 'raw=False' to silence this warning\n",
      "  if sys.path[0] == '':\n"
     ]
    }
   ],
   "source": [
    "inflation_signal.plot_signal_index_returns(countries, beg_date, end_date)"
   ]
  },
  {
   "cell_type": "code",
   "execution_count": null,
   "metadata": {},
   "outputs": [],
   "source": []
  }
 ],
 "metadata": {
  "kernelspec": {
   "display_name": "Python 3",
   "language": "python",
   "name": "python3"
  },
  "language_info": {
   "codemirror_mode": {
    "name": "ipython",
    "version": 3
   },
   "file_extension": ".py",
   "mimetype": "text/x-python",
   "name": "python",
   "nbconvert_exporter": "python",
   "pygments_lexer": "ipython3",
   "version": "3.6.5"
  }
 },
 "nbformat": 4,
 "nbformat_minor": 4
}
