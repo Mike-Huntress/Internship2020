{
 "cells": [
  {
   "cell_type": "markdown",
   "metadata": {},
   "source": [
    "# Setup"
   ]
  },
  {
   "cell_type": "code",
   "execution_count": 1,
   "metadata": {},
   "outputs": [],
   "source": [
    "# If the below code doesn't work uncomment this and run (this adds the parent directory to the path)\n",
    "import os,sys,inspect\n",
    "currentdir = os.path.dirname(os.path.abspath(inspect.getfile(inspect.currentframe())))\n",
    "parentdir = os.path.dirname(currentdir)\n",
    "sys.path.insert(0,parentdir) \n",
    "\n",
    "from collections import Counter\n",
    "import matplotlib.pyplot as plt\n",
    "import matplotlib.pylab as pl\n",
    "import seaborn as sns\n",
    "from BasicSetupUtilities.MetaDataBuilder import CountryMetaDataFile\n",
    "from DataIOUtilities.DataLib import DataLib, DatastreamPulls\n",
    "import pandas as pd\n",
    "import numpy as np\n",
    "from scipy import stats\n",
    "\n",
    "dl = DataLib(\"SignalData\")\n",
    "plt.style.use(\"seaborn\")"
   ]
  },
  {
   "cell_type": "code",
   "execution_count": 2,
   "metadata": {},
   "outputs": [],
   "source": [
    "# Pull all the necessary dataframes to avoid duplicate code. \n",
    "bri = dl.pull(\"BondRetIdx/LocalFX\")\n",
    "LongRates = dl.pull(\"LongRates\")\n",
    "ShortRates = dl.pull(\"ShortRates\")\n",
    "EquityPrices = dl.pull(\"EquityPrices\")\n",
    "M1 = dl.pull(\"M1/inUSD\")\n",
    "M2 = dl.pull(\"M2/inUSD\")\n",
    "M3 = dl.pull(\"M3/inUSD\")\n",
    "CurrAcctNom = dl.pull(\"CurrAcctNom/inUSD\")\n",
    "CurrAcctPctGDP = dl.pull(\"CurrAcctPctGDP\")\n",
    "nGDP = dl.pull(\"GDP/Nominal\")\n",
    "rGDP = dl.pull(\"GDP/Real\")\n",
    "nFxTrdWts = dl.pull(\"fxTrdWts/Nominal\")\n",
    "rFxTrdWts = dl.pull(\"fxTrdWts/Real\")\n",
    "fxVsUSD = dl.pull(\"fxVsUSD\")\n",
    "core_cpi = dl.pull(\"CoreCPI/SA\")\n",
    "rfRates = dl.pull(\"RiskfreeRates\")"
   ]
  },
  {
   "cell_type": "code",
   "execution_count": 3,
   "metadata": {},
   "outputs": [],
   "source": [
    "# Constants. \n",
    "WORKDAYS_IN_MONTH=21\n",
    "WORKDAYS_IN_YEAR=261\n",
    "QUARTERS_IN_YEAR=4\n",
    "COUNTRIES=[\n",
    "    'USA', 'AUS', 'JPN', 'CAN', 'CHE', 'GBR', 'ESP', 'FRA', 'ITA', 'DEU'\n",
    "]"
   ]
  },
  {
   "cell_type": "markdown",
   "metadata": {},
   "source": [
    "# Utility functions"
   ]
  },
  {
   "cell_type": "code",
   "execution_count": 37,
   "metadata": {},
   "outputs": [],
   "source": [
    "def get_sharpe(country, prices): \n",
    "    \n",
    "    excess_returns = get_excess_returns(prices)\n",
    "    returns = excess_returns\n",
    "    gmean = stats.gmean((1 + returns[country]).dropna())\n",
    "    annualized_return = (gmean ** 261) - 1\n",
    "    risk = returns[country].std() * np.sqrt(261)\n",
    "    \n",
    "    return annualized_return/risk\n",
    "\n",
    "def get_excess_returns(prices):\n",
    "\n",
    "    # Convert from monthly to daily rf rates.\n",
    "    series = rfRates / 100\n",
    "    series = series.resample('B').ffill()\n",
    "    series = (series + 1) ** (1 / WORKDAYS_IN_YEAR) - 1\n",
    "    series = series.loc[prices.index]\n",
    "    \n",
    "    # Convert this series to a dataframe.\n",
    "    rf_rates = prices.copy()\n",
    "    for country in rf_rates.columns.values: \n",
    "        rf_rates[country] = series\n",
    "        \n",
    "    # Subtract the rates from the change in bond returns. \n",
    "    return EquityPrices.pct_change() - rf_rates"
   ]
  },
  {
   "cell_type": "markdown",
   "metadata": {},
   "source": [
    "# Equity Performance"
   ]
  },
  {
   "cell_type": "markdown",
   "metadata": {},
   "source": [
    "First let's get the Sharpes for every country for a long-only strategy. "
   ]
  },
  {
   "cell_type": "code",
   "execution_count": 38,
   "metadata": {},
   "outputs": [
    {
     "name": "stdout",
     "output_type": "stream",
     "text": [
      "USA long-only sharpe: 0.25\n",
      "AUS long-only sharpe: 0.12\n",
      "JPN long-only sharpe: -0.04\n",
      "CAN long-only sharpe: 0.10\n",
      "CHE long-only sharpe: 0.15\n",
      "GBR long-only sharpe: 0.12\n",
      "ESP long-only sharpe: 0.11\n",
      "FRA long-only sharpe: 0.13\n",
      "ITA long-only sharpe: 0.09\n",
      "DEU long-only sharpe: 0.09\n"
     ]
    }
   ],
   "source": [
    "for country in COUNTRIES: \n",
    "    print('{} long-only sharpe:'.format(country), \"{:.2f}\".format(get_sharpe(country, EquityPrices)))"
   ]
  },
  {
   "cell_type": "markdown",
   "metadata": {},
   "source": [
    "Let's see how the Sharpes change for every 10 year window from 1980 onwards. "
   ]
  },
  {
   "cell_type": "code",
   "execution_count": 42,
   "metadata": {
    "scrolled": true
   },
   "outputs": [],
   "source": [
    "sharpes_10yr = []\n",
    "for year in range(1980, 2020): \n",
    "    prices = EquityPrices[(EquityPrices.index >= year) \\\n",
    "                          & (EquityPrices.index < year+10)]\n",
    "    sharpes_10yr.append(get_sharpe('USA', prices))"
   ]
  },
  {
   "cell_type": "code",
   "execution_count": 44,
   "metadata": {},
   "outputs": [
    {
     "data": {
      "text/plain": [
       "[0.17159048070759209,\n",
       " 0.035106700384039666,\n",
       " 0.28394554678684714,\n",
       " 0.27347538564089835,\n",
       " 0.2570932828168679,\n",
       " 0.27969679211054704,\n",
       " 0.3324962183073111,\n",
       " 0.38991646903727867,\n",
       " 0.690768600217115,\n",
       " 0.8012288736473301,\n",
       " 0.7562611572192597,\n",
       " 0.6612992211308676,\n",
       " 0.3761562524423736,\n",
       " 0.16041604235234466,\n",
       " 0.2633535681463516,\n",
       " 0.33276362780263374,\n",
       " 0.19466698728361734,\n",
       " 0.15870036117916309,\n",
       " 0.03236416463378981,\n",
       " -0.29437240717851454,\n",
       " -0.2509636648739013,\n",
       " -0.11209173740779048,\n",
       " -0.03402040778108008,\n",
       " 0.16668694399321898,\n",
       " 0.18702184578623002,\n",
       " 0.2046175400169368,\n",
       " 0.19443527809956163,\n",
       " 0.19647602683576754,\n",
       " 0.2892355538733498,\n",
       " 0.624729364926622,\n",
       " 0.7176292122510037,\n",
       " 0.583059302018691,\n",
       " 0.6876082493800773,\n",
       " 0.6545249410380148,\n",
       " 0.4833184363271035,\n",
       " 0.4366424069184791,\n",
       " 0.528421121857789,\n",
       " 0.511513814934419,\n",
       " 0.32318006859408677,\n",
       " 0.6906509400550506]"
      ]
     },
     "execution_count": 44,
     "metadata": {},
     "output_type": "execute_result"
    }
   ],
   "source": [
    "sharpes_10yr"
   ]
  },
  {
   "cell_type": "code",
   "execution_count": 45,
   "metadata": {
    "scrolled": false
   },
   "outputs": [
    {
     "name": "stdout",
     "output_type": "stream",
     "text": [
      "mean sharpe for 10 year windows: 0.331\n"
     ]
    },
    {
     "data": {
      "image/png": "[encoded data removed]",
      "text/plain": [
       "<Figure size 576x396 with 1 Axes>"
      ]
     },
     "metadata": {},
     "output_type": "display_data"
    }
   ],
   "source": [
    "plt.plot(sharpes_10yr)\n",
    "print('mean sharpe for 10 year windows:', \"{:.3f}\".format(np.mean(sharpes_10yr)))"
   ]
  },
  {
   "cell_type": "code",
   "execution_count": null,
   "metadata": {},
   "outputs": [],
   "source": []
  }
 ],
 "metadata": {
  "kernelspec": {
   "display_name": "Python 3",
   "language": "python",
   "name": "python3"
  },
  "language_info": {
   "codemirror_mode": {
    "name": "ipython",
    "version": 3
   },
   "file_extension": ".py",
   "mimetype": "text/x-python",
   "name": "python",
   "nbconvert_exporter": "python",
   "pygments_lexer": "ipython3",
   "version": "3.6.10"
  }
 },
 "nbformat": 4,
 "nbformat_minor": 4
}
