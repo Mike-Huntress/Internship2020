{
 "cells": [
  {
   "cell_type": "code",
   "execution_count": 1,
   "metadata": {},
   "outputs": [],
   "source": [
    "# If the below code doesn't work uncomment this and run (this adds the parent directory to the path)\n",
    "import os,sys,inspect\n",
    "currentdir = os.path.dirname(os.path.abspath(inspect.getfile(inspect.currentframe())))\n",
    "parentdir = os.path.dirname(currentdir)\n",
    "sys.path.insert(0,parentdir)\n",
    "\n",
    "import matplotlib.pyplot as plt\n",
    "from BasicSetupUtilities.MetaDataBuilder import CountryMetaDataFile\n",
    "from DataIOUtilities.DataLib import DataLib, DatastreamPulls\n",
    "import pandas as pd\n",
    "import numpy as np\n",
    "\n",
    "dl = DataLib(\"SignalData\")"
   ]
  },
  {
   "cell_type": "code",
   "execution_count": 2,
   "metadata": {},
   "outputs": [],
   "source": [
    "'''\n",
    "takes in indicator. Then processes return and plots bond return, indicator, and pnl\n",
    "indicator is a function, returns new time series with the indicator\n",
    "\n",
    "CURRENTLY ONLY DOING FOR USA\n",
    "'''\n",
    "bond_return_index = dl.pull('BondRetIdx/LocalFX')\n",
    "bond_return_change = bond_return_index.resample('M').mean().pct_change()\n",
    "\n",
    "\n",
    "def evaluate_performance(indicator):\n",
    "    shifted_bond_return = bond_return_change.shift(1)\n",
    "    days_profit = shifted_bond_return['USA'] * indicator\n",
    "    pnl = days_profit.cumsum()\n",
    "#     pnl = pnl * 100\n",
    "    return pnl\n",
    "    \n",
    "    \n",
    "def plot_evaluation(indicator, pnl, plot_indicator = False):\n",
    "    fig, ax1 = plt.subplots()\n",
    "    ax2 = ax1.twinx()\n",
    "    ax1.plot(pnl.to_timestamp(), label = 'Portfolio Returns')\n",
    "    ax1.plot(bond_return_index['USA'].to_timestamp(), label = 'Bond Market Index')\n",
    "    ax1.set_ylabel('Returns or Index')\n",
    "    ax1.legend()\n",
    "    if plot_indicator:\n",
    "        ax2.plot(indicator.to_timestamp(), color = 'tab:red',label = 'Indicator')\n",
    "        ax2.set_ylabel('Indicator')\n",
    "        ax2.legend()\n",
    "    plt.title('USA portfolio performance vs bond market')\n",
    "    plt.show()\n",
    "    std_portfolio = indicator.rolling(12).std()\n",
    "    std_market = bond_return_index['USA'].resample('M').mean().rolling(12).std()\n",
    "#     print(std_portfolio.tail())\n",
    "#     print(std_market.tail())\n",
    "    vol_adjusted_pnl = pnl * std_market / std_portfolio\n",
    "    vol_adjusted_pnl.plot(label = 'vol adjusted portfolio returns')\n",
    "    bond_return_index['USA'].plot(label = 'bond market returns')\n",
    "    plt.legend()\n",
    "    plt.title('USA bond market returns vs vol adjusted portfolio returns')\n",
    "    plt.show()"
   ]
  },
  {
   "cell_type": "code",
   "execution_count": 3,
   "metadata": {},
   "outputs": [
    {
     "name": "stdout",
     "output_type": "stream",
     "text": [
      "country    AUS  DEU    CAN  ESP  FRA  ITA  JPN  CHE    GBR    USA\n",
      "date                                                             \n",
      "1980Q1  -0.963  NaN    NaN  NaN  NaN  NaN  NaN  NaN -0.572 -0.496\n",
      "1980Q2  -1.720  NaN    NaN  NaN  NaN  NaN  NaN  NaN -0.814 -0.135\n",
      "1980Q3  -3.787  NaN    NaN  NaN  NaN  NaN  NaN  NaN  1.163  0.607\n",
      "1980Q4  -3.218  NaN    NaN  NaN  NaN  NaN  NaN  NaN  2.205  0.319\n",
      "1981Q1  -2.825  NaN -4.141  NaN  NaN  NaN  NaN  NaN  3.822  0.123\n"
     ]
    }
   ],
   "source": [
    "curve_height_indicator = pd.Series([])\n",
    "curr_acct_pct = dl.pull('CurrAcctPctGDP') #quarterly\n",
    "curr_acct_pct_4m = curr_acct_pct\n",
    "curr_acct_pct_1yr = curr_acct_pct.rolling(4).mean()\n",
    "print(curr_acct_pct.head())\n"
   ]
  },
  {
   "cell_type": "code",
   "execution_count": null,
   "metadata": {},
   "outputs": [],
   "source": []
  }
 ],
 "metadata": {
  "kernelspec": {
   "display_name": "Python 3",
   "language": "python",
   "name": "python3"
  },
  "language_info": {
   "codemirror_mode": {
    "name": "ipython",
    "version": 3
   },
   "file_extension": ".py",
   "mimetype": "text/x-python",
   "name": "python",
   "nbconvert_exporter": "python",
   "pygments_lexer": "ipython3",
   "version": "3.6.3"
  }
 },
 "nbformat": 4,
 "nbformat_minor": 4
}
