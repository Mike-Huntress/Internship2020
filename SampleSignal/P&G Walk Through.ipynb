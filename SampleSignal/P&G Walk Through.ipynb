{
 "cells": [
  {
   "cell_type": "markdown",
   "metadata": {},
   "source": [
    "# Current Standing\n",
    "- Logic for generating P&L curve from a signal \n",
    "    - also logic for generating returns from passive long-only strategy\n",
    "- Indicators chosen: money supply, rGDP, FX\n",
    "    - GDP indicator reasonably fleshed out\n",
    "    - Monetary base (some work)\n",
    "    - FX indicator (some work)"
   ]
  },
  {
   "cell_type": "markdown",
   "metadata": {},
   "source": [
    "# Roadmap\n",
    "1. Get base indicators (MS, FX) working\n",
    "    - assemble logic explaining what we might expect each to do; compare with what actually happens\n",
    "2. Combine indicators, observe return stream\n",
    "3. Refine indicators\n",
    "4. Refine logic behind combining indicators"
   ]
  },
  {
   "cell_type": "markdown",
   "metadata": {},
   "source": [
    "# Questions\n",
    "1. Indicator construction. \n",
    "    - how to ensure equal long/short positions. -> is this each day? -> neutral over time? (current implementation)\n",
    "    - current approach: build a zscore for each country based on some recent window\n",
    "2. How to combine indicators\n",
    "    - search a parameter space and see what works best? \n",
    "    - justify qualitatively? "
   ]
  }
 ],
 "metadata": {
  "kernelspec": {
   "display_name": "Python 3",
   "language": "python",
   "name": "python3"
  },
  "language_info": {
   "codemirror_mode": {
    "name": "ipython",
    "version": 3
   },
   "file_extension": ".py",
   "mimetype": "text/x-python",
   "name": "python",
   "nbconvert_exporter": "python",
   "pygments_lexer": "ipython3",
   "version": "3.6.10"
  }
 },
 "nbformat": 4,
 "nbformat_minor": 4
}
