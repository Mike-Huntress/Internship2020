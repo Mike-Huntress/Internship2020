{
 "cells": [
  {
   "cell_type": "code",
   "execution_count": null,
   "metadata": {},
   "outputs": [],
   "source": [
    "import os,sys,inspect\n",
    "currentdir = os.path.dirname(os.path.abspath(inspect.getfile(inspect.currentframe())))\n",
    "parentdir = os.path.dirname(currentdir)\n",
    "sys.path.insert(0,parentdir)"
   ]
  },
  {
   "cell_type": "code",
   "execution_count": null,
   "metadata": {},
   "outputs": [],
   "source": [
    "import matplotlib.pyplot as plt\n",
    "from BasicSetupUtilities.MetaDataBuilder import CountryMetaDataFile\n",
    "from DataIOUtilities.DataLib import DataLib, DatastreamPulls\n",
    "import pandas as pd\n",
    "import numpy as np"
   ]
  },
  {
   "cell_type": "code",
   "execution_count": null,
   "metadata": {},
   "outputs": [],
   "source": [
    "dl = DataLib(\"SignalData\")\n",
    "\n",
    "bondReturnIndex = dl.pull('BondRetIdx/LocalFX')\n",
    "\n",
    "countries = ['USA', 'AUS', 'JPN', 'CAN', 'CHE', 'GBR', 'ESP', 'FRA', 'ITA', 'DEU']"
   ]
  },
  {
   "cell_type": "code",
   "execution_count": null,
   "metadata": {},
   "outputs": [],
   "source": [
    "def period_return(series):\n",
    "    startPrice = series[0]\n",
    "    endPrice = series[-1]\n",
    "    ret = (endPrice - startPrice)/startPrice\n",
    "    return ret\n",
    "hedgedReturnsQuarterly = bondReturnIndex.resample('1Q').apply(period_return)"
   ]
  },
  {
   "cell_type": "markdown",
   "metadata": {},
   "source": [
    "## Note: All indicators are reported as z-scores. The z-scores are then converted to actual long or short positions (values between -1 and 1) by the getPosition() function."
   ]
  },
  {
   "cell_type": "markdown",
   "metadata": {},
   "source": [
    "# Current Account / GDP"
   ]
  },
  {
   "cell_type": "markdown",
   "metadata": {},
   "source": [
    "### I computed 4 year x 1 year rolling mean for current account/GDP to capture smoothed change over time. CA/GDP captures both potential for future interest rate increases and FX depreciations. If time permits, I may try to incorporate foreign currency reserve data from the IMF to capture the degree to which a given currency acts as a reserve currency."
   ]
  },
  {
   "cell_type": "code",
   "execution_count": null,
   "metadata": {},
   "outputs": [],
   "source": [
    "def getChange(series):\n",
    "    start = series[0]\n",
    "    end = series[-1]\n",
    "    change = (end - start)\n",
    "    return change"
   ]
  },
  {
   "cell_type": "code",
   "execution_count": null,
   "metadata": {
    "scrolled": true
   },
   "outputs": [],
   "source": [
    "currentAccount_pctGDP = dl.pull(\"CurrAcctPctGDP\")\n",
    "\n",
    "#currentAccountChangeLastQ = currentAccount_pctGDP.shift(periods=1).rolling.apply(getChange,raw=True)\n",
    "\n",
    "ca4YrBackend = currentAccount_pctGDP.shift(periods=1).rolling(16).mean()\n",
    "\n",
    "ca1YrFrontend = currentAccount_pctGDP.shift(periods=1).rolling(4).mean()\n",
    "\n",
    "##\n",
    "## compute 4 year x 1 year rolling mean for current account/GDP to capture smoothed change over time.\n",
    "## ca/GDP captures both potential for future interest rate increases and FX depreciations.\n",
    "##\n",
    "\n",
    "caChange = ca1YrFrontend - ca4YrBackend\n",
    "\n",
    "caMeanChangeRolling = caChange.rolling(8).mean()\n",
    "#caChangeStdevPrevious4Yrs = currentAccount_pctGDP.shift(periods=1).rolling(16).std()\n",
    "caChangeStdevRolling = caChange.rolling(8).std()\n",
    "\n",
    "#caIndicator = currentAccountChangeLast12Months / currentAccountMeanPrior4Yrs\n",
    "\n",
    "#caRollingMeanPastYear = currentAccount_pctGDP.shift(periods=1).rolling(4).mean()\n",
    "\n",
    "#caRollingMeanPrevious4Yrs = currentAccount_pctGDP.shift(periods=1).rolling(16).mean()\n",
    "#caRollingStdevPrevious4Yrs = currentAccount_pctGDP.shift(periods=1).rolling(16).std()\n",
    "\n",
    "#quarterZScore = (currentAccount_pctGDP.shift(periods=1) - caRollingMeanPrevious4Yrs)/caRollingStdevPrevious4Yrs\n",
    "\n",
    "#zScores = quarterZScore.rolling(4).mean()\n",
    "\n",
    "caZScores = (caChange - caMeanChangeRolling)/caChangeStdevRolling\n",
    "\n",
    "worldAvgZ = caZScores.mean(axis=1)\n",
    "\n",
    "for country in countries:\n",
    "    \n",
    "    fig, ax1 = plt.subplots(figsize = (14,7))\n",
    "    ax2 = ax1.twinx()\n",
    "    ax1_label = country + ' quarterly bond returns'\n",
    "    ax2_label = 'Current Account Indicator'\n",
    "    hr = ax1.plot(hedgedReturnsQuarterly[country].to_timestamp(), color = 'tab:blue', label = ax1_label)\n",
    "    #ca = ax2.plot(caIndicator[country].to_timestamp(), color = 'tab:red', label = ax2_label)\n",
    "    ca = ax2.plot(caZScores[country].to_timestamp(), color = 'tab:red', label = ax2_label)\n",
    "    \n",
    "    avgZ = ax2.plot(worldAvgZ.to_timestamp(), color = 'tab:green', label = \"World Average Z Score\")\n",
    "    ax1.set_ylabel(ax1_label)\n",
    "    ax2.set_ylabel(ax2_label)\n",
    "    plots = hr + ca + avgZ\n",
    "    labels = [plot.get_label() for plot in plots]\n",
    "    ax1.legend(plots, labels, loc=\"best\")\n",
    "\n",
    "    correlation = hedgedReturnsQuarterly[country].corr(caZScores[country])\n",
    "    ax1.annotate(\"Correlation = \" + str(correlation),xy = (0.5,-0.1),xycoords=\"axes fraction\")\n",
    "    plt.show()\n",
    "    "
   ]
  },
  {
   "cell_type": "code",
   "execution_count": null,
   "metadata": {},
   "outputs": [],
   "source": [
    "def getPosition(indicatorSeries, anticipatedCorrelation, countries):\n",
    "    positions = indicatorSeries.copy()\n",
    "    for country in countries:\n",
    "        countryPosition = positions[country] \n",
    "        indices1 = countryPosition.index[countryPosition >= 2]\n",
    "        indices2 = countryPosition.index[countryPosition <= -2]\n",
    "        indices3 = countryPosition.index[(0 < countryPosition) & (countryPosition < 2)]\n",
    "        indices4 = countryPosition.index[(0 > countryPosition) & (countryPosition > -2)]\n",
    "        countryPosition[indices1] = anticipatedCorrelation\n",
    "        countryPosition[indices2] = -1*anticipatedCorrelation\n",
    "        countryPosition[indices3] = 0.5 * anticipatedCorrelation * countryPosition[indices3]\n",
    "        countryPosition[indices4] = 0.5 * anticipatedCorrelation * countryPosition[indices4]\n",
    "    return positions"
   ]
  },
  {
   "cell_type": "code",
   "execution_count": null,
   "metadata": {},
   "outputs": [],
   "source": [
    "caPositions = getPosition(caZScores, 1, countries)"
   ]
  },
  {
   "cell_type": "code",
   "execution_count": null,
   "metadata": {},
   "outputs": [],
   "source": [
    "caIndicatorReturns = caPositions * hedgedReturnsQuarterly"
   ]
  },
  {
   "cell_type": "code",
   "execution_count": null,
   "metadata": {},
   "outputs": [],
   "source": [
    "def getDates(series):\n",
    "    dates = []\n",
    "    for x in series.index.to_list():\n",
    "        dates.append(x)\n",
    "    return dates"
   ]
  },
  {
   "cell_type": "code",
   "execution_count": null,
   "metadata": {},
   "outputs": [],
   "source": [
    "def plotReturns(indicatorName, indicatorSeries, indicatorReturns, longOnlyReturns, countries):\n",
    "    \n",
    "    cumulativeValue = np.cumsum(indicatorReturns)\n",
    "    \n",
    "    cumulativeHedgedPL = np.cumsum(longOnlyReturns)\n",
    "    \n",
    "    for country in countries:\n",
    "        countryIndicatorReturns = indicatorReturns[country].copy().dropna()\n",
    "        \n",
    "        dates = getDates(countryIndicatorReturns)\n",
    "        countryBondReturns = longOnlyReturns[country][dates]\n",
    "        \n",
    "        # compute risk-adjusted returns (per period)\n",
    "        riskAdjustedRet_bonds = np.mean(countryBondReturns)/np.std(countryBondReturns)\n",
    "        riskAdjustedRet_indicator = np.mean(countryIndicatorReturns)/np.std(countryIndicatorReturns)\n",
    "        \n",
    "        returnsCorrelation = indicatorReturns[country].corr(longOnlyReturns[country])\n",
    "        \n",
    "        fig, ax1 = plt.subplots(figsize = (14,7))\n",
    "        ax2 = ax1.twinx()\n",
    "        ax1_label = country + ' Indicator Returns'\n",
    "        ax2_label = \"Position generated by \" + indicatorName\n",
    "        cr = ax1.plot(np.cumsum(countryIndicatorReturns).to_timestamp(), color = 'tab:blue', label = ax1_label)\n",
    "\n",
    "        indicatorPlot = ax2.plot(caPositions[country].to_timestamp(), color = 'tab:red', label = ax2_label)\n",
    "        hr = ax1.plot(np.cumsum(countryBondReturns).to_timestamp(), color = 'tab:green', label = \"Long-Only Bond Returns\")\n",
    "        ax1.set_ylabel(ax1_label)\n",
    "        ax2.set_ylabel(ax2_label)\n",
    "\n",
    "        plots = cr + indicatorPlot + hr\n",
    "        labels = [plot.get_label() for plot in plots]\n",
    "        ax1.legend(plots, labels, loc=\"best\")\n",
    "        \n",
    "        ax1.annotate(\"Long Bonds risk-adjusted return = \" + str(riskAdjustedRet_bonds),xy = (0.4,-0.1),xycoords=\"axes fraction\")\n",
    "        ax1.annotate(\"Indicator risk-adjusted return = \" + str(riskAdjustedRet_indicator),xy = (0.4,-0.2),xycoords=\"axes fraction\")\n",
    "        ax1.annotate(\"Correlation btwn long-only and indicator returns: \" + str(returnsCorrelation),xy = (0.4,-0.3),xycoords=\"axes fraction\")\n",
    "        \n",
    "        plt.show()"
   ]
  },
  {
   "cell_type": "code",
   "execution_count": null,
   "metadata": {
    "scrolled": true
   },
   "outputs": [],
   "source": [
    "plotReturns(\"Current Account Z Scores\", caZScores, caIndicatorReturns, hedgedReturnsQuarterly, countries)"
   ]
  },
  {
   "cell_type": "markdown",
   "metadata": {},
   "source": [
    "## Bond Premium"
   ]
  },
  {
   "cell_type": "markdown",
   "metadata": {},
   "source": [
    "### Bond premium gives a view into general risk sentiment. Bond premium is also faster moving than current account. I computed the 6x18 rolling mean. This moving average change allows us to smoothe changes out over time. The bond premium indicator generates positive returns for almost every country, and the returns generated by the indicator are largely uncorrelated (correlation coefficient < 0.2) with the returns of the long-only strategy."
   ]
  },
  {
   "cell_type": "code",
   "execution_count": null,
   "metadata": {
    "scrolled": true
   },
   "outputs": [],
   "source": [
    "longRates = dl.pull('LongRates')\n",
    "shortRates = dl.pull('ShortRates')\n",
    "\n",
    "bondPremium = longRates - shortRates\n",
    "#curveHeight = (longRates + shortRates)/2\n",
    "\n",
    "\n",
    "#bp_over_ch = bondPremium.shift(periods=1)/curveHeight.shift(periods=1)\n",
    "\n",
    "#bp_over_ch = bp_over_ch.rolling(6).mean()\n",
    "\n",
    "#bp_ = bondPremium.shift(periods=1).rolling(6).mean().diff()\n",
    "\n",
    "##\n",
    "## Compute 6x18 rolling mean for bond premium\n",
    "##\n",
    "\n",
    "bpBackend = bondPremium.shift(periods=1).rolling(18).mean()\n",
    "\n",
    "#bpRollingMean = bondPremium.shift(periods=1).rolling(24).mean()\n",
    "\n",
    "#bpRollingStdev = bondPremium.shift(periods=1).rolling(24).std()\n",
    "\n",
    "bpFrontend = bondPremium.shift(periods=1).rolling(6).mean()\n",
    "\n",
    "bpChange = bpFrontend - bpBackend\n",
    "\n",
    "bpChangeRollingMean = bpChange.rolling(12).mean()\n",
    "\n",
    "bpChangeRollingStdev = bpChange.rolling(12).std()\n",
    "\n",
    "## compute z score\n",
    "\n",
    "bpZScore = (bpChangeRollingMean - bpChange)/bpChangeRollingStdev\n",
    "\n",
    "#bpLevelZ = (bpRollingMean - bpFrontend)/bpRollingStdev\n",
    "\n",
    "hedgedReturnsMonthly = bondReturnIndex.resample('1M').apply(period_return).rolling(6).mean()\n",
    "\n",
    "for country in countries:\n",
    "    \n",
    "    fig, ax1 = plt.subplots(figsize = (14,7))\n",
    "    ax2 = ax1.twinx()\n",
    "    ax1_label = country + ' monthly bond returns'\n",
    "    ax2_label = 'Z Score'\n",
    "    hr = ax1.plot(hedgedReturnsMonthly[country].to_timestamp(), color = 'tab:blue', label = ax1_label)\n",
    "    \n",
    "    bp = ax2.plot(bpZScore[country].to_timestamp(), color = 'tab:green', label = ax2_label)\n",
    "    ax1.set_ylabel(ax1_label)\n",
    "    ax2.set_ylabel(ax2_label)\n",
    "    plots = hr + bp\n",
    "    labels = [plot.get_label() for plot in plots]\n",
    "    ax1.legend(plots, labels, loc=\"best\")\n",
    "    correlation = hedgedReturnsMonthly[country].corr(bpZScore[country])\n",
    "    #ax1.annotate(\"Correlation (Levels) = \" + str(correlation1),xy = (0.5,-0.1),xycoords=\"axes fraction\")\n",
    "    ax1.annotate(\"Correlation (Changes) = \" + str(correlation),xy = (0.5,-0.2),xycoords=\"axes fraction\")\n",
    "    plt.show()"
   ]
  },
  {
   "cell_type": "code",
   "execution_count": null,
   "metadata": {
    "scrolled": false
   },
   "outputs": [],
   "source": [
    "bpPositions = getPosition(bpZScore, 1, countries)\n",
    "\n",
    "bpIndicatorReturns = bpPositions * hedgedReturnsMonthly\n",
    "\n",
    "plotReturns(\"Bond Premium\", bpZScore, bpIndicatorReturns, hedgedReturnsMonthly, countries)\n"
   ]
  },
  {
   "cell_type": "markdown",
   "metadata": {},
   "source": [
    "# FX Appreciation"
   ]
  },
  {
   "cell_type": "markdown",
   "metadata": {},
   "source": [
    "### I used changes in the BIS Real Broad Effective Exchange Rate Index as a proxy for appreciation/depreciation of currency (the fxTrdWts data set included in the data library only had data for 5 of the 10 countries). I computed a 1x12 month rolling mean to capture changes in FX. FX appreciation/depreciation gives a forward-looking view into inflation expectations (through the lever of the increasing/decreasing foreign demand for a countries goods that occurs when a countries currency depreciates/appreciates). The indicator doesn't work perfectly for all countries (most notably the US, Japan, Switzerland, and Italy), but for the rest of the countries it performs moderately. I plan on refining this indicator further and hopefully improving the performance. It is worth noting, though, that in the countries where the indicator delivers positive returns, the returns of the indicator are largely uncorrelated with the returns of the long-only bond strategy."
   ]
  },
  {
   "cell_type": "code",
   "execution_count": null,
   "metadata": {
    "scrolled": false
   },
   "outputs": [],
   "source": [
    "fx = dl.pull(\"bisRealBroadEffExchRateIndex\")\n",
    "\n",
    "fxBackend = fx.shift(periods=1).rolling(12).mean()\n",
    "\n",
    "fxFrontend = fx.shift(periods=1).rolling(1).mean()\n",
    "\n",
    "fxChange = fxFrontend - fxBackend\n",
    "\n",
    "fxChangeRollingMean = fxChange.rolling(4).mean()\n",
    "\n",
    "fxChangeRollingStdev = fxChange.rolling(4).std()\n",
    "\n",
    "fxZScore = (fxChangeRollingMean - fxChange)/fxChangeRollingStdev\n",
    "\n",
    "for country in countries:\n",
    "    \n",
    "    fig, ax1 = plt.subplots(figsize = (14,7))\n",
    "    ax2 = ax1.twinx()\n",
    "    ax1_label = country + ' monthly bond returns'\n",
    "    ax2_label = 'ZScore'\n",
    "    hr = ax1.plot(hedgedReturnsMonthly[country].to_timestamp(), color = 'tab:blue', label = ax1_label)\n",
    "    \n",
    "    fx = ax2.plot(fxZScore[country].to_timestamp(), color = 'tab:green', label = \"Z Score\")\n",
    "    ax1.set_ylabel(ax1_label)\n",
    "    ax2.set_ylabel(ax2_label)\n",
    "    plots = hr + fx\n",
    "    labels = [plot.get_label() for plot in plots]\n",
    "    ax1.legend(plots, labels, loc=\"best\")\n",
    "    correlation = hedgedReturnsMonthly[country].corr(fxZScore[country])\n",
    "    ax1.annotate(\"Correlation = \" + str(correlation),xy = (0.5,-0.1),xycoords=\"axes fraction\")\n",
    "    plt.show()\n"
   ]
  },
  {
   "cell_type": "code",
   "execution_count": null,
   "metadata": {
    "scrolled": true
   },
   "outputs": [],
   "source": [
    "fxPositions = getPosition(fxZScore, 1, countries)\n",
    "\n",
    "fxIndicatorReturns = fxPositions * hedgedReturnsMonthly\n",
    "\n",
    "plotReturns(\"FX Indicator\", fxZScore, fxIndicatorReturns, hedgedReturnsMonthly, countries)\n"
   ]
  },
  {
   "cell_type": "markdown",
   "metadata": {},
   "source": [
    "# Sandbox"
   ]
  },
  {
   "cell_type": "code",
   "execution_count": null,
   "metadata": {},
   "outputs": [],
   "source": [
    "#import numpy as np\n",
    "#from sklearn.metrics import r2_score\n",
    "#for country in countries:\n",
    "    \n",
    "    #if len(caIndicator[country].dropna()) <= len(hedgedReturns[country].dropna()):\n",
    "        #naIndices = zScores[country].index[zScores[country].isna()]\n",
    "    #else:\n",
    "        #naIndices = hedgedReturns[country].index[hedgedReturns[country].isna()]\n",
    "    #zs_country = caIndicator[country].drop(naIndices)\n",
    "    #hr_country = hedgedReturns[country].drop(naIndices)\n",
    "    \n",
    "    #otherNa = zs_country.index[zs_country.isna()]\n",
    "    #otherNa = caIndicator.index[zs_country.isna()]\n",
    "\n",
    "    #zs_country = zs_country.drop(otherNa)\n",
    "    #hr_country = hr_country.drop(otherNa)\n",
    "    \n",
    "    #m, b = np.polyfit(zs_country, hr_country, 1)\n",
    "    #plt.scatter(zScores[country],hedgedReturns[country])\n",
    "    #plt.title(\"Z Scores vs. hedged returns: \" + country)\n",
    "    #plt.plot(zs_country, m*zs_country + b)\n",
    "    \n",
    "    #r2 = r2_score(hr_country, m*zs_country + b)\n",
    "    #plt.annotate(\"R^2 = \" + str(r2),xy = (0.5,-0.2),xycoords=\"axes fraction\")\n",
    "    \n",
    "    #X = zs_country\n",
    "    #y = hr_country\n",
    "\n",
    "    #X2 = sm.add_constant(X)\n",
    "    #est = sm.OLS(y, X2)\n",
    "    #est2 = est.fit()\n",
    "    #print(est2.summary())\n",
    "    \n",
    "    #plt.show()\n",
    "    "
   ]
  },
  {
   "cell_type": "code",
   "execution_count": null,
   "metadata": {},
   "outputs": [],
   "source": []
  },
  {
   "cell_type": "code",
   "execution_count": null,
   "metadata": {},
   "outputs": [],
   "source": []
  },
  {
   "cell_type": "code",
   "execution_count": null,
   "metadata": {},
   "outputs": [],
   "source": []
  }
 ],
 "metadata": {
  "kernelspec": {
   "display_name": "Python 3",
   "language": "python",
   "name": "python3"
  },
  "language_info": {
   "codemirror_mode": {
    "name": "ipython",
    "version": 3
   },
   "file_extension": ".py",
   "mimetype": "text/x-python",
   "name": "python",
   "nbconvert_exporter": "python",
   "pygments_lexer": "ipython3",
   "version": "3.6.10"
  }
 },
 "nbformat": 4,
 "nbformat_minor": 4
}
