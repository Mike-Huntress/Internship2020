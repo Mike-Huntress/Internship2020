{
 "cells": [
  {
   "cell_type": "code",
   "execution_count": 1,
   "metadata": {},
   "outputs": [],
   "source": [
    "# Plot of cumsum of bond returns and signal indicator for bond premium (rolling)\n",
    "# fig, ax1 = plt.subplots()\n",
    "# ax2 = ax1.twinx()\n",
    "# ax1_label = 'Bond Returns'\n",
    "# ax1.plot(BondReturnMethod('JPN').loc['1981':'2020'].cumsum().to_timestamp(), color = 'tab:blue', label = ax1_label)\n",
    "# ax1.set_ylabel(ax1_label)\n",
    "# ax1.legend(loc=2)\n",
    "# ax2_label = 'Bond Premium Signal'\n",
    "# ax2.plot(df_rolling.iloc[:, 1].loc['1981':'2020'].resample('B').ffill().to_timestamp(), color = 'tab:red', label = ax2_label)\n",
    "# ax2.set_ylabel(ax2_label)\n",
    "# ax2.axhline(linewidth=1, color='black')\n",
    "# ax2.legend()\n",
    "# plt.title('Japan Rolling Sum Bond Returns vs. Rolling Bond Premium Signal 1980-2020')\n",
    "# plt.show()"
   ]
  },
  {
   "cell_type": "code",
   "execution_count": 2,
   "metadata": {},
   "outputs": [],
   "source": [
    "#dftest = pd.DataFrame(LongMinusShortRates)\n",
    "\n",
    "#pnltest = []\n",
    "\n",
    "#for i in range(len(LongMinusShortRates)):\n",
    "#    pnltest.append((dftest['USA'][i]-dftest.mean(axis=1))/dftest.std(axis=1))\n",
    " #   print(pnltest)\n",
    "\n",
    "\n",
    "    "
   ]
  },
  {
   "cell_type": "code",
   "execution_count": 3,
   "metadata": {},
   "outputs": [],
   "source": [
    "# Creating a dataframe for bond premium signals \n",
    "#df = pd.DataFrame(LongMinusShortRates['USA'])\n",
    "#df['Signal USA'] = Signal(LongMinusShortRates, 'USA')\n",
    "    \n",
    "# Creating a dataframe for bond premium signals ROLLING!\n",
    "#df_rolling = pd.DataFrame(LongMinusShortRates['JPN'])\n",
    "#df_rolling['Signal JPN'] = SignalRolling(LongMinusShortRates, 'JPN')\n",
    "#df_rolling"
   ]
  },
  {
   "cell_type": "code",
   "execution_count": null,
   "metadata": {},
   "outputs": [],
   "source": [
    "# Here unintentionally I normalized (standard deviation to see how high a country's growth is relative to itself) \n",
    "# and then standardized \n",
    "\n",
    "df_zscore = pd.DataFrame(stats.zscore(LongMinusShortRates))\n",
    "\n",
    "# Matrix of normalized by country bond premiums \n",
    "zscore_matrix = df_zscore.to_numpy()\n",
    "\n",
    "# Dataframe normalized by country bond premiums \n",
    "df_zscore"
   ]
  },
  {
   "cell_type": "code",
   "execution_count": 4,
   "metadata": {},
   "outputs": [],
   "source": [
    "# This does not work because if all elements of a line are positive or negative the line is all 0 \n",
    "#Std_DevCountries = []\n",
    "\n",
    "#for i in range(len(zscore_matrix)):\n",
    "   #     row = zscore_matrix[i]\n",
    "      #  sum_ = np.sum(row).tolist()\n",
    "      #  sum_abs = np.sum([abs(number) for number in row])\n",
    "     #   new_elements_list = []\n",
    "      #  for j in range(10):\n",
    "            # Standardizing to add up to 0 -- doesn't work if all negative or positive \n",
    "      #      new_element = row[j] - abs(row[j])*(sum_/sum_abs)\n",
    "     #       new_elements_list.append(new_element)\n",
    "        \n",
    "     #   Std_DevCountries.append(new_elements_list)\n",
    "        \n",
    "#df_Std_DevCountries = pd.DataFrame(Std_DevCountries)\n",
    "# Question: is it ok to do %250? -- each line sums to 0         "
   ]
  },
  {
   "cell_type": "code",
   "execution_count": 5,
   "metadata": {},
   "outputs": [],
   "source": [
    "# This does not work because if all elements of a line do not sum to 0 (can't short and long equally)\n",
    "#Rescaled_DevCountries = []\n",
    "\n",
    "#for i in range(len(zscore_matrix)):\n",
    "  #      row = zscore_matrix[i]\n",
    "   #     minimum = min(row)\n",
    "    #    maximum = max(row)\n",
    "     #   new_elements = []\n",
    "      #  for j in range(10):\n",
    "       #     new_x = (2 *(row[j]-minimum))/(maximum - minimum) - 1\n",
    "        #    new_elements.append(new_x)\n",
    "            \n",
    "      #  Rescaled_DevCountries.append(new_elements)\n",
    "        \n",
    "#df_Rescaled_DevCountries = pd.DataFrame(Rescaled_DevCountries)"
   ]
  },
  {
   "cell_type": "code",
   "execution_count": 6,
   "metadata": {},
   "outputs": [],
   "source": [
    "# Standardizing across rows (once we have already normalized within a counry)\n",
    "\n",
    "# Question: I think what is tricky here is that if we are normalizing within a country first if an output is low \n",
    "# for a country (even if it is high from a world view) it would still come through as low when standardizing \n",
    "# accross countries. Would it make sense to standardize across rows?\n",
    "\n",
    "\n",
    "#Zeroed_DevCountries = []\n",
    "\n",
    "#for i in range(len(zscore_matrix)):\n",
    " #       row = zscore_matrix[i]\n",
    "  #      sum_ = np.sum(row).tolist()\n",
    "   #     new_list = []\n",
    "    #    for j in range(10):\n",
    "     #       new = row[j]/sum_ - 0.1\n",
    "      #      new_list.append(new)\n",
    "            \n",
    "       # Zeroed_DevCountries.append(new_list)\n",
    "        \n",
    "#df_Zeroed_DevCountries = pd.DataFrame(Zeroed_DevCountries)"
   ]
  },
  {
   "cell_type": "code",
   "execution_count": null,
   "metadata": {},
   "outputs": [],
   "source": []
  }
 ],
 "metadata": {
  "kernelspec": {
   "display_name": "Python 3",
   "language": "python",
   "name": "python3"
  },
  "language_info": {
   "codemirror_mode": {
    "name": "ipython",
    "version": 3
   },
   "file_extension": ".py",
   "mimetype": "text/x-python",
   "name": "python",
   "nbconvert_exporter": "python",
   "pygments_lexer": "ipython3",
   "version": "3.6.9"
  }
 },
 "nbformat": 4,
 "nbformat_minor": 4
}
