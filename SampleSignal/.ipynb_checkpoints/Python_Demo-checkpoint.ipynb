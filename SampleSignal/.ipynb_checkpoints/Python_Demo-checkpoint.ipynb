{
 "cells": [
  {
   "cell_type": "markdown",
   "metadata": {},
   "source": [
    "# Basic Python Training\n",
    "### Python and pandas is extremely well documented. When in doubt, use Google and find the link corresponding to the API here https://pandas.pydata.org/docs/reference/index.html#api"
   ]
  },
  {
   "cell_type": "code",
   "execution_count": 1,
   "metadata": {},
   "outputs": [],
   "source": [
    "# If the below code doesn't work uncomment this and run (this adds the parent directory to the path)\n",
    "import os,sys,inspect\n",
    "currentdir = os.path.dirname(os.path.abspath(inspect.getfile(inspect.currentframe())))\n",
    "parentdir = os.path.dirname(currentdir)\n",
    "sys.path.insert(0,parentdir) "
   ]
  },
  {
   "cell_type": "code",
   "execution_count": 2,
   "metadata": {},
   "outputs": [],
   "source": [
    "import matplotlib.pyplot as plt\n",
    "from BasicSetupUtilities.MetaDataBuilder import CountryMetaDataFile\n",
    "from DataIOUtilities.DataLib import DataLib, DatastreamPulls\n",
    "import pandas as pd\n",
    "import numpy as np"
   ]
  },
  {
   "cell_type": "markdown",
   "metadata": {},
   "source": [
    "## Reading and writing/storing data"
   ]
  },
  {
   "cell_type": "markdown",
   "metadata": {},
   "source": [
    "### Set up the data library "
   ]
  },
  {
   "cell_type": "code",
   "execution_count": 3,
   "metadata": {},
   "outputs": [],
   "source": [
    "dl = DataLib(\"SignalData\")"
   ]
  },
  {
   "cell_type": "markdown",
   "metadata": {},
   "source": [
    "### Pull and look at the data. See SignalDataLibrary.py for the data available to you from Eikon. Use head and tail to look at the top and bottom of the dataframes."
   ]
  },
  {
   "cell_type": "code",
   "execution_count": 4,
   "metadata": {},
   "outputs": [],
   "source": [
    "LongRates = dl.pull('LongRates')\n",
    "ShortRates = dl.pull('ShortRates')"
   ]
  },
  {
   "cell_type": "code",
   "execution_count": 5,
   "metadata": {},
   "outputs": [
    {
     "data": {
      "text/html": [
       "<div>\n",
       "<style scoped>\n",
       "    .dataframe tbody tr th:only-of-type {\n",
       "        vertical-align: middle;\n",
       "    }\n",
       "\n",
       "    .dataframe tbody tr th {\n",
       "        vertical-align: top;\n",
       "    }\n",
       "\n",
       "    .dataframe thead th {\n",
       "        text-align: right;\n",
       "    }\n",
       "</style>\n",
       "<table border=\"1\" class=\"dataframe\">\n",
       "  <thead>\n",
       "    <tr style=\"text-align: right;\">\n",
       "      <th>country</th>\n",
       "      <th>AUS</th>\n",
       "      <th>DEU</th>\n",
       "      <th>CAN</th>\n",
       "      <th>ESP</th>\n",
       "      <th>FRA</th>\n",
       "      <th>ITA</th>\n",
       "      <th>JPN</th>\n",
       "      <th>CHE</th>\n",
       "      <th>GBR</th>\n",
       "      <th>USA</th>\n",
       "    </tr>\n",
       "    <tr>\n",
       "      <th>date</th>\n",
       "      <th></th>\n",
       "      <th></th>\n",
       "      <th></th>\n",
       "      <th></th>\n",
       "      <th></th>\n",
       "      <th></th>\n",
       "      <th></th>\n",
       "      <th></th>\n",
       "      <th></th>\n",
       "      <th></th>\n",
       "    </tr>\n",
       "  </thead>\n",
       "  <tbody>\n",
       "    <tr>\n",
       "      <th>1980-01</th>\n",
       "      <td>10.08</td>\n",
       "      <td>7.92</td>\n",
       "      <td>NaN</td>\n",
       "      <td>NaN</td>\n",
       "      <td>NaN</td>\n",
       "      <td>NaN</td>\n",
       "      <td>8.64</td>\n",
       "      <td>NaN</td>\n",
       "      <td>13.92</td>\n",
       "      <td>10.33</td>\n",
       "    </tr>\n",
       "    <tr>\n",
       "      <th>1980-02</th>\n",
       "      <td>10.45</td>\n",
       "      <td>8.15</td>\n",
       "      <td>NaN</td>\n",
       "      <td>NaN</td>\n",
       "      <td>NaN</td>\n",
       "      <td>NaN</td>\n",
       "      <td>8.50</td>\n",
       "      <td>NaN</td>\n",
       "      <td>13.71</td>\n",
       "      <td>11.29</td>\n",
       "    </tr>\n",
       "    <tr>\n",
       "      <th>1980-03</th>\n",
       "      <td>10.55</td>\n",
       "      <td>8.96</td>\n",
       "      <td>NaN</td>\n",
       "      <td>NaN</td>\n",
       "      <td>NaN</td>\n",
       "      <td>NaN</td>\n",
       "      <td>9.32</td>\n",
       "      <td>NaN</td>\n",
       "      <td>13.72</td>\n",
       "      <td>12.79</td>\n",
       "    </tr>\n",
       "    <tr>\n",
       "      <th>1980-04</th>\n",
       "      <td>11.20</td>\n",
       "      <td>9.83</td>\n",
       "      <td>NaN</td>\n",
       "      <td>NaN</td>\n",
       "      <td>NaN</td>\n",
       "      <td>NaN</td>\n",
       "      <td>10.00</td>\n",
       "      <td>NaN</td>\n",
       "      <td>13.54</td>\n",
       "      <td>12.69</td>\n",
       "    </tr>\n",
       "    <tr>\n",
       "      <th>1980-05</th>\n",
       "      <td>11.73</td>\n",
       "      <td>8.99</td>\n",
       "      <td>NaN</td>\n",
       "      <td>NaN</td>\n",
       "      <td>NaN</td>\n",
       "      <td>NaN</td>\n",
       "      <td>10.30</td>\n",
       "      <td>NaN</td>\n",
       "      <td>13.07</td>\n",
       "      <td>10.57</td>\n",
       "    </tr>\n",
       "  </tbody>\n",
       "</table>\n",
       "</div>"
      ],
      "text/plain": [
       "country    AUS   DEU  CAN  ESP  FRA  ITA    JPN  CHE    GBR    USA\n",
       "date                                                              \n",
       "1980-01  10.08  7.92  NaN  NaN  NaN  NaN   8.64  NaN  13.92  10.33\n",
       "1980-02  10.45  8.15  NaN  NaN  NaN  NaN   8.50  NaN  13.71  11.29\n",
       "1980-03  10.55  8.96  NaN  NaN  NaN  NaN   9.32  NaN  13.72  12.79\n",
       "1980-04  11.20  9.83  NaN  NaN  NaN  NaN  10.00  NaN  13.54  12.69\n",
       "1980-05  11.73  8.99  NaN  NaN  NaN  NaN  10.30  NaN  13.07  10.57"
      ]
     },
     "execution_count": 5,
     "metadata": {},
     "output_type": "execute_result"
    }
   ],
   "source": [
    "LongRates.head()"
   ]
  },
  {
   "cell_type": "code",
   "execution_count": 6,
   "metadata": {},
   "outputs": [
    {
     "data": {
      "text/html": [
       "<div>\n",
       "<style scoped>\n",
       "    .dataframe tbody tr th:only-of-type {\n",
       "        vertical-align: middle;\n",
       "    }\n",
       "\n",
       "    .dataframe tbody tr th {\n",
       "        vertical-align: top;\n",
       "    }\n",
       "\n",
       "    .dataframe thead th {\n",
       "        text-align: right;\n",
       "    }\n",
       "</style>\n",
       "<table border=\"1\" class=\"dataframe\">\n",
       "  <thead>\n",
       "    <tr style=\"text-align: right;\">\n",
       "      <th>country</th>\n",
       "      <th>AUS</th>\n",
       "      <th>DEU</th>\n",
       "      <th>CAN</th>\n",
       "      <th>ESP</th>\n",
       "      <th>FRA</th>\n",
       "      <th>ITA</th>\n",
       "      <th>JPN</th>\n",
       "      <th>CHE</th>\n",
       "      <th>GBR</th>\n",
       "      <th>USA</th>\n",
       "    </tr>\n",
       "    <tr>\n",
       "      <th>date</th>\n",
       "      <th></th>\n",
       "      <th></th>\n",
       "      <th></th>\n",
       "      <th></th>\n",
       "      <th></th>\n",
       "      <th></th>\n",
       "      <th></th>\n",
       "      <th></th>\n",
       "      <th></th>\n",
       "      <th></th>\n",
       "    </tr>\n",
       "  </thead>\n",
       "  <tbody>\n",
       "    <tr>\n",
       "      <th>1980-01</th>\n",
       "      <td>9.97</td>\n",
       "      <td>NaN</td>\n",
       "      <td>NaN</td>\n",
       "      <td>NaN</td>\n",
       "      <td>NaN</td>\n",
       "      <td>NaN</td>\n",
       "      <td>7.295</td>\n",
       "      <td>NaN</td>\n",
       "      <td>NaN</td>\n",
       "      <td>11.23</td>\n",
       "    </tr>\n",
       "    <tr>\n",
       "      <th>1980-02</th>\n",
       "      <td>10.38</td>\n",
       "      <td>8.426</td>\n",
       "      <td>NaN</td>\n",
       "      <td>NaN</td>\n",
       "      <td>NaN</td>\n",
       "      <td>NaN</td>\n",
       "      <td>7.295</td>\n",
       "      <td>NaN</td>\n",
       "      <td>NaN</td>\n",
       "      <td>12.04</td>\n",
       "    </tr>\n",
       "    <tr>\n",
       "      <th>1980-03</th>\n",
       "      <td>10.75</td>\n",
       "      <td>9.123</td>\n",
       "      <td>NaN</td>\n",
       "      <td>NaN</td>\n",
       "      <td>NaN</td>\n",
       "      <td>NaN</td>\n",
       "      <td>7.295</td>\n",
       "      <td>NaN</td>\n",
       "      <td>NaN</td>\n",
       "      <td>14.83</td>\n",
       "    </tr>\n",
       "    <tr>\n",
       "      <th>1980-04</th>\n",
       "      <td>11.20</td>\n",
       "      <td>10.085</td>\n",
       "      <td>NaN</td>\n",
       "      <td>NaN</td>\n",
       "      <td>NaN</td>\n",
       "      <td>NaN</td>\n",
       "      <td>7.960</td>\n",
       "      <td>NaN</td>\n",
       "      <td>NaN</td>\n",
       "      <td>14.59</td>\n",
       "    </tr>\n",
       "    <tr>\n",
       "      <th>1980-05</th>\n",
       "      <td>11.40</td>\n",
       "      <td>9.416</td>\n",
       "      <td>NaN</td>\n",
       "      <td>NaN</td>\n",
       "      <td>NaN</td>\n",
       "      <td>NaN</td>\n",
       "      <td>7.960</td>\n",
       "      <td>NaN</td>\n",
       "      <td>NaN</td>\n",
       "      <td>10.70</td>\n",
       "    </tr>\n",
       "  </tbody>\n",
       "</table>\n",
       "</div>"
      ],
      "text/plain": [
       "country    AUS     DEU  CAN  ESP  FRA  ITA    JPN  CHE  GBR    USA\n",
       "date                                                              \n",
       "1980-01   9.97     NaN  NaN  NaN  NaN  NaN  7.295  NaN  NaN  11.23\n",
       "1980-02  10.38   8.426  NaN  NaN  NaN  NaN  7.295  NaN  NaN  12.04\n",
       "1980-03  10.75   9.123  NaN  NaN  NaN  NaN  7.295  NaN  NaN  14.83\n",
       "1980-04  11.20  10.085  NaN  NaN  NaN  NaN  7.960  NaN  NaN  14.59\n",
       "1980-05  11.40   9.416  NaN  NaN  NaN  NaN  7.960  NaN  NaN  10.70"
      ]
     },
     "execution_count": 6,
     "metadata": {},
     "output_type": "execute_result"
    }
   ],
   "source": [
    "ShortRates.head()"
   ]
  },
  {
   "cell_type": "markdown",
   "metadata": {},
   "source": [
    "### Generate some new data and store it"
   ]
  },
  {
   "cell_type": "code",
   "execution_count": null,
   "metadata": {},
   "outputs": [],
   "source": [
    "LongMinusShortRates = LongRates - ShortRates\n",
    "dl.write_data(\"LongMinusShortRates\", LongMinusShortRates)\n",
    "LongMinusShortRates.tail()"
   ]
  },
  {
   "cell_type": "code",
   "execution_count": null,
   "metadata": {},
   "outputs": [],
   "source": [
    "LongMinusShortRatesFromStorage = dl.pull(\"LongMinusShortRates\")\n",
    "LongMinusShortRatesFromStorage.tail()"
   ]
  },
  {
   "cell_type": "markdown",
   "metadata": {},
   "source": [
    "## Basic Data Access"
   ]
  },
  {
   "cell_type": "markdown",
   "metadata": {},
   "source": [
    "### Select a subset of columns"
   ]
  },
  {
   "cell_type": "code",
   "execution_count": null,
   "metadata": {},
   "outputs": [],
   "source": [
    "LongRates[['AUS', 'DEU']].tail()"
   ]
  },
  {
   "cell_type": "markdown",
   "metadata": {},
   "source": [
    "### Select a subset of data by index name using loc (see the documentation if you're unfamiliar with the ':' operation for slicing)"
   ]
  },
  {
   "cell_type": "code",
   "execution_count": null,
   "metadata": {},
   "outputs": [],
   "source": [
    "# Select a list of specific rows\n",
    "LongRates.loc[[pd.Period('2020-03'), pd.Period('2020-04')], ['AUS', 'DEU']]"
   ]
  },
  {
   "cell_type": "code",
   "execution_count": null,
   "metadata": {},
   "outputs": [],
   "source": [
    "# Select a slice of rows\n",
    "LongRates.loc[pd.Period('2020-03'):pd.Period('2020-07'),['AUS', 'DEU']]"
   ]
  },
  {
   "cell_type": "markdown",
   "metadata": {},
   "source": [
    "### Select a subset of data by index using iloc "
   ]
  },
  {
   "cell_type": "code",
   "execution_count": null,
   "metadata": {},
   "outputs": [],
   "source": [
    "# Select the last 5 elements\n",
    "LongRates.iloc[-5:, :]"
   ]
  },
  {
   "cell_type": "markdown",
   "metadata": {},
   "source": [
    "## Plotting the data. For this, look up matplotlib documentation"
   ]
  },
  {
   "cell_type": "markdown",
   "metadata": {},
   "source": [
    "### Plotting all the columns of the dataframe"
   ]
  },
  {
   "cell_type": "code",
   "execution_count": null,
   "metadata": {},
   "outputs": [],
   "source": [
    "BondReturnIndex = dl.pull('BondRetIdx/LocalFX')\n",
    "BondReturnIndex.plot()\n",
    "plt.xlabel('Date')\n",
    "plt.ylabel('Return Index')\n",
    "plt.title('Bond Return Index By Country')\n",
    "plt.show()"
   ]
  },
  {
   "cell_type": "markdown",
   "metadata": {},
   "source": [
    "### Plot series from different dataframes"
   ]
  },
  {
   "cell_type": "code",
   "execution_count": null,
   "metadata": {},
   "outputs": [],
   "source": [
    "country = 'USA'\n",
    "LongRates[country].plot()\n",
    "ShortRates[country].plot()\n",
    "LongMinusShortRates[country].plot()\n",
    "plt.legend(['Long Rate', 'Short Rate', 'Long - Short'])\n",
    "plt.xlabel('Date')\n",
    "plt.title(f'{country} Long vs. Short Rate')\n",
    "plt.show()"
   ]
  },
  {
   "cell_type": "markdown",
   "metadata": {},
   "source": [
    "### Plot multiple charts at the same time. If you want them to all be part of the same figure, check out subplots https://matplotlib.org/api/_as_gen/matplotlib.pyplot.subplot.html"
   ]
  },
  {
   "cell_type": "code",
   "execution_count": null,
   "metadata": {},
   "outputs": [],
   "source": [
    "countries = ['USA', 'AUS']\n",
    "for country in countries:\n",
    "    LongRates[country].plot()\n",
    "    ShortRates[country].plot()\n",
    "    LongMinusShortRates[country].plot()\n",
    "    plt.legend(['Long Rate', 'Short Rate', 'Long - Short'])\n",
    "    plt.xlabel('Date')\n",
    "    plt.title(f'{country} Long vs. Short Rate')\n",
    "    plt.show()"
   ]
  },
  {
   "cell_type": "markdown",
   "metadata": {},
   "source": [
    "### Plot on separate axes (look up subplots)"
   ]
  },
  {
   "cell_type": "code",
   "execution_count": null,
   "metadata": {},
   "outputs": [],
   "source": [
    "fig, ax1 = plt.subplots()\n",
    "ax2 = ax1.twinx()\n",
    "ax1_label = 'Long Minus Short Rate'\n",
    "ax1.plot(LongMinusShortRates['USA'].to_timestamp(), label = ax1_label)\n",
    "ax1.set_ylabel(ax1_label)\n",
    "ax1.legend()\n",
    "ax2_label = 'Bond Return Index'\n",
    "ax2.plot(BondReturnIndex['USA'].to_timestamp(), color = 'tab:red', label = ax2_label)\n",
    "ax2.set_ylabel(ax2_label)\n",
    "ax2.legend()\n",
    "plt.title('Bond Return Index vs. Long Minus Short Rate')\n",
    "plt.show()"
   ]
  },
  {
   "cell_type": "markdown",
   "metadata": {},
   "source": [
    "# Useful Operations. (See the time series section of the API)"
   ]
  },
  {
   "cell_type": "markdown",
   "metadata": {},
   "source": [
    "### Changes (Arithmetic)"
   ]
  },
  {
   "cell_type": "code",
   "execution_count": null,
   "metadata": {},
   "outputs": [],
   "source": [
    "LongRatesMonthlyChange = LongRates.diff()\n",
    "LongRatesMonthlyChange['USA'].plot()\n",
    "plt.xlabel(\"Date\")\n",
    "plt.title(\"Monthly Change in Long Rate (Arithmetic)\")\n",
    "plt.show()"
   ]
  },
  {
   "cell_type": "code",
   "execution_count": null,
   "metadata": {},
   "outputs": [],
   "source": [
    "WEEKDAYS_IN_YEAR = 261\n",
    "\n",
    "\n",
    "RGDP = dl.pull('GDP/Real')\n",
    "RGDPChangeQoQ_Unannualized = RGDP.pct_change(1, fill_method = None).dropna(how='all')\n",
    "RGDPChangeQoQ = (RGDPChangeQoQ_Unannualized + 1) ** 4 - 1\n",
    "\n",
    "BondReturnsPastQuarter = BondReturnIndex.pct_change(int(WEEKDAYS_IN_YEAR / 4))\n",
    "\n",
    "fig, ax1 = plt.subplots()\n",
    "ax2 = ax1.twinx()\n",
    "ax1_label = 'RGDP Change, QoQ'\n",
    "ax1.plot(RGDPChangeQoQ['USA'].to_timestamp(), color = 'tab:blue', label = ax1_label)\n",
    "ax1.set_ylabel(ax1_label)\n",
    "ax1.legend(loc=2)\n",
    "ax2_label = 'Bond Return, Past Quarter'\n",
    "ax2.plot(BondReturnsPastQuarter['USA'].to_timestamp(), color = 'tab:red', label = ax2_label)\n",
    "ax2.set_ylabel(ax2_label)\n",
    "ax2.legend()\n",
    "plt.title('RGDP Change vs. Bond Returns')\n",
    "plt.show()"
   ]
  },
  {
   "cell_type": "markdown",
   "metadata": {},
   "source": [
    "### Rolling Measures (mean and standard deviation)"
   ]
  },
  {
   "cell_type": "code",
   "execution_count": null,
   "metadata": {},
   "outputs": [],
   "source": [
    "RGDPChangeRollingMean = RGDPChangeQoQ.rolling(40, min_periods=20).mean() # \n",
    "RGDPChangeRollingMean.plot()\n",
    "plt.title('GDP Growth Rolling Mean (20 Year)')\n",
    "plt.show()\n",
    "RGDPChangeRollingStdDev = RGDPChangeQoQ.rolling(40, min_periods=20).std()\n",
    "RGDPChangeRollingStdDev.plot()\n",
    "plt.title('GDP Growth Rolling Std Dev (20 Year)')\n",
    "plt.show()"
   ]
  },
  {
   "cell_type": "markdown",
   "metadata": {},
   "source": [
    "### Working with different frequencies"
   ]
  },
  {
   "cell_type": "markdown",
   "metadata": {},
   "source": [
    "### Upsampling"
   ]
  },
  {
   "cell_type": "code",
   "execution_count": null,
   "metadata": {},
   "outputs": [],
   "source": [
    "pd.options.display.float_format = '{:,.2f}'.format\n",
    "RGDPChange_Upsampled = RGDPChangeQoQ.resample('1B').ffill()\n",
    "RGDPChange_Upsampled.head()"
   ]
  },
  {
   "cell_type": "markdown",
   "metadata": {},
   "source": [
    "### Downsampling"
   ]
  },
  {
   "cell_type": "code",
   "execution_count": null,
   "metadata": {},
   "outputs": [],
   "source": [
    "RGDPChange_Downsampled = RGDPChangeQoQ.resample('1Y').mean()\n",
    "RGDPChange_Downsampled.head()"
   ]
  },
  {
   "cell_type": "markdown",
   "metadata": {},
   "source": [
    "### Aggregations across columns"
   ]
  },
  {
   "cell_type": "code",
   "execution_count": null,
   "metadata": {},
   "outputs": [],
   "source": [
    "all_countries = RGDPChangeQoQ.columns\n",
    "RGDPChangeMeans = RGDPChangeQoQ.copy()\n",
    "RGDPChangeMeans['Equal Weighted Mean'] = RGDPChangeQoQ.mean(axis=1)\n",
    "RGDPChangeMeans.tail()"
   ]
  },
  {
   "cell_type": "code",
   "execution_count": null,
   "metadata": {},
   "outputs": [],
   "source": [
    "random_weights = {country: np.random.uniform() for country in all_countries}\n",
    "RGDPChangeMeans['Random Weighted Mean'] = sum([random_weights[country] * RGDPChangeQoQ[country] for country in countries])\n",
    "RGDPChangeMeans['Random Weighted Mean'] /= sum(random_weights.values()) # Need to either do this or normalize the weights\n",
    "RGDPChangeMeans.tail()"
   ]
  },
  {
   "cell_type": "markdown",
   "metadata": {},
   "source": [
    "## Exercise\n",
    "### Calculate the rolling 1-year return of a world bond portfolio that is weighted by GDP of each country. Say that you instantly rebalance at the beginning of each quarter with the GDP from last quarter."
   ]
  }
 ],
 "metadata": {
  "kernelspec": {
   "display_name": "Python 3",
   "language": "python",
   "name": "python3"
  },
  "language_info": {
   "codemirror_mode": {
    "name": "ipython",
    "version": 3
   },
   "file_extension": ".py",
   "mimetype": "text/x-python",
   "name": "python",
   "nbconvert_exporter": "python",
   "pygments_lexer": "ipython3",
   "version": "3.6.10"
  }
 },
 "nbformat": 4,
 "nbformat_minor": 1
}
