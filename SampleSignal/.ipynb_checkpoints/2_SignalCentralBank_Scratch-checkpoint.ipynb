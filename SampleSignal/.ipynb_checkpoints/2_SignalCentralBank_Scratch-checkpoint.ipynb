{
 "cells": [
  {
   "cell_type": "code",
   "execution_count": 3,
   "metadata": {},
   "outputs": [
    {
     "data": {
      "text/plain": [
       "<matplotlib.figure.Figure at 0x1c92c5c7080>"
      ]
     },
     "metadata": {},
     "output_type": "display_data"
    },
    {
     "data": {
      "text/plain": [
       "<matplotlib.figure.Figure at 0x1c92e8547b8>"
      ]
     },
     "metadata": {},
     "output_type": "display_data"
    },
    {
     "ename": "NameError",
     "evalue": "name 'all_countries' is not defined",
     "output_type": "error",
     "traceback": [
      "\u001b[1;31m---------------------------------------------------------------------------\u001b[0m",
      "\u001b[1;31mNameError\u001b[0m                                 Traceback (most recent call last)",
      "\u001b[1;32m<ipython-input-3-450be569f8f6>\u001b[0m in \u001b[0;36m<module>\u001b[1;34m\u001b[0m\n\u001b[0;32m     66\u001b[0m \u001b[1;33m\u001b[0m\u001b[0m\n\u001b[0;32m     67\u001b[0m \u001b[1;33m\u001b[0m\u001b[0m\n\u001b[1;32m---> 68\u001b[1;33m \u001b[1;32mfor\u001b[0m \u001b[0mcountry\u001b[0m \u001b[1;32min\u001b[0m \u001b[0mall_countries\u001b[0m\u001b[1;33m:\u001b[0m\u001b[1;33m\u001b[0m\u001b[1;33m\u001b[0m\u001b[0m\n\u001b[0m\u001b[0;32m     69\u001b[0m     \u001b[0mhost\u001b[0m \u001b[1;33m=\u001b[0m \u001b[0mhost_subplot\u001b[0m\u001b[1;33m(\u001b[0m\u001b[1;36m111\u001b[0m\u001b[1;33m,\u001b[0m \u001b[0maxes_class\u001b[0m\u001b[1;33m=\u001b[0m\u001b[0mAA\u001b[0m\u001b[1;33m.\u001b[0m\u001b[0mAxes\u001b[0m\u001b[1;33m)\u001b[0m\u001b[1;33m\u001b[0m\u001b[1;33m\u001b[0m\u001b[0m\n\u001b[0;32m     70\u001b[0m     \u001b[0mplt\u001b[0m\u001b[1;33m.\u001b[0m\u001b[0msubplots_adjust\u001b[0m\u001b[1;33m(\u001b[0m\u001b[0mright\u001b[0m\u001b[1;33m=\u001b[0m\u001b[1;36m0.75\u001b[0m\u001b[1;33m)\u001b[0m\u001b[1;33m\u001b[0m\u001b[1;33m\u001b[0m\u001b[0m\n",
      "\u001b[1;31mNameError\u001b[0m: name 'all_countries' is not defined"
     ]
    }
   ],
   "source": [
    "# If the below code doesn't work uncomment this and run (this adds the parent directory to the path)\n",
    "import sys\n",
    "sys.path.insert(0,\"C:\\\\Users\\\\Paolo\\\\.virtualenvs\\\\Internship2020-9r0W5TXr\\\\Lib\\\\site-packages\")\n",
    "sys.path.insert(1,\"C:\\\\Users\\\\Paolo\\\\.virtualenvs\\\\Internship2020-9r0W5TXr\")\n",
    "\n",
    "import os,sys,inspect\n",
    "currentdir = os.path.dirname(os.path.abspath(inspect.getfile(inspect.currentframe())))\n",
    "parentdir = os.path.dirname(currentdir)\n",
    "sys.path.insert(2,parentdir)\n",
    "\n",
    "\n",
    "import matplotlib.pyplot as plt\n",
    "from BasicSetupUtilities.MetaDataBuilder import CountryMetaDataFile\n",
    "from DataIOUtilities.DataLib import DataLib, DatastreamPulls\n",
    "import pandas as pd\n",
    "import numpy as np\n",
    "\n",
    "from mpl_toolkits.axes_grid1 import host_subplot\n",
    "import mpl_toolkits.axisartist as AA\n",
    "import matplotlib.pyplot as plt\n",
    "\n",
    "dl = DataLib(\"SignalData\")\n",
    "\n",
    "# Generate signal for how the central bank will change interest rates as a response to everything except inflation\n",
    "# Include economic growth and current account\n",
    "\n",
    "from BasicSetupUtilities.MetaDataBuilder import CountryMetaDataFile\n",
    "from DataIOUtilities.DataLib import DataLib\n",
    "import matplotlib.pyplot as plt\n",
    "import pandas as pd\n",
    "import numpy as np\n",
    "\n",
    "\n",
    "countries = CountryMetaDataFile().readMetadata()\n",
    "dl = DataLib(\"SignalData\")\n",
    "\n",
    "\n",
    "# Generate signal for M1\n",
    "\n",
    "M1 = dl.pull(\"M1/inUSD\")\n",
    "\n",
    "all_countries = M1.columns\n",
    "\n",
    "# Generate 3M Series\n",
    "M1_3M_PctChange_Unanualized = M1.pct_change(3, fill_method = None).dropna(how='all')\n",
    "M1_3M_PctChange = (M1_3M_PctChange_Unanualized + 1)**(12/3) - 1\n",
    "\n",
    "# Generate 1Y series\n",
    "M1_1Y_PctChange = M1.pct_change(12, fill_method = None).dropna(how='all')\n",
    "\n",
    "\n",
    "M1_3M_Minus_1Y_Change = M1_3M_PctChange - M1_1Y_PctChange\n",
    "\n",
    "\n",
    "# Generate Actual Inflation measure\n",
    "CoreCPI = dl.pull(\"CoreCPI/SA\")\n",
    "Inflation_Unannualized = CoreCPI.pct_change(2, fill_method = None).dropna(how='all')\n",
    "Inflation = (Inflation_Unannualized + 1)**(12/2) - 1\n",
    "\n",
    "\n",
    "CoreCPI.plot()\n",
    "plt.xlabel('Date')\n",
    "plt.ylabel('CPI')\n",
    "plt.title('CPI By Country')\n",
    "plt.show(block = False)\n",
    "\n",
    "Inflation.plot()\n",
    "plt.xlabel('Date')\n",
    "plt.ylabel('Inflation (%)')\n",
    "plt.title('Inflation By Country')\n",
    "plt.show(block = False)\n",
    "\n",
    "\n",
    "for country in all_countries:\n",
    "    host = host_subplot(111, axes_class=AA.Axes)\n",
    "    plt.subplots_adjust(right=0.75)\n",
    "\n",
    "    par1 = host.twinx()\n",
    "\n",
    "    offset = 60\n",
    "    new_fixed_axis = par2.get_grid_helper().new_fixed_axis\n",
    "    \n",
    "    host.set_xlabel(\"Date\")\n",
    "    host.set_ylabel(\"M1_3M_Minus_1Y_Change\")\n",
    "    par1.set_ylabel(\"Inflation\")\n",
    "\n",
    "    p1, = host.plot(M1_3M_Minus_1Y_Change[country].to_timestamp(), label = \"M1_3M_Minus_1Y_Change\")\n",
    "    p2, = par1.plot(Inflation[country].to_timestamp(), label = \"Inflation\")\n",
    "    \n",
    "    host.axis[\"left\"].label.set_color(p1.get_color())\n",
    "    par1.axis[\"right\"].label.set_color(p2.get_color())\n",
    "\n",
    "    \n",
    "    host.legend()\n",
    "    \n",
    "    plt.title('Linkages for ' + country)\n",
    "\n",
    "    plt.draw()\n",
    "    plt.show()\n"
   ]
  }
 ],
 "metadata": {
  "kernelspec": {
   "display_name": "Python 3",
   "language": "python",
   "name": "python3"
  },
  "language_info": {
   "codemirror_mode": {
    "name": "ipython",
    "version": 3
   },
   "file_extension": ".py",
   "mimetype": "text/x-python",
   "name": "python",
   "nbconvert_exporter": "python",
   "pygments_lexer": "ipython3",
   "version": "3.6.10"
  }
 },
 "nbformat": 4,
 "nbformat_minor": 4
}
