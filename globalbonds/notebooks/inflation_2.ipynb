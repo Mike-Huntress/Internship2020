{
 "cells": [
  {
   "cell_type": "code",
   "execution_count": 192,
   "metadata": {},
   "outputs": [
    {
     "data": {
      "text/plain": [
       "['GDP-Real',\n",
       " 'EquityPrices',\n",
       " 'LongRates',\n",
       " 'CurrAcctNom-inUSD',\n",
       " 'CoreCPI-SA',\n",
       " 'fxTrdWts-Real',\n",
       " 'M3-inUSD',\n",
       " 'RiskFree-Rate',\n",
       " 'CurrAcctPctGDP',\n",
       " 'fxTrdWts-Nominal',\n",
       " 'BondRetIdx-LocalFX',\n",
       " 'fxVsUSD',\n",
       " 'M2-inUSD',\n",
       " 'M1-inUSD',\n",
       " 'ShortRates',\n",
       " 'GDP-Nominal']"
      ]
     },
     "execution_count": 192,
     "metadata": {},
     "output_type": "execute_result"
    }
   ],
   "source": [
    "import numpy as np\n",
    "import pandas as pd\n",
    "\n",
    "from globalbonds.dataio.data_lib import DataLib\n",
    "from globalbonds.indicators.data_utils import *\n",
    "from globalbonds.indicators.signal import Signal\n",
    "from globalbonds.indicators.indicator import Indicator\n",
    "from globalbonds.indicators.assess_signal import predictive_accuracy\n",
    "from globalbonds.indicators.return_utils import *\n",
    "from globalbonds.indicators.normalization import *\n",
    "\n",
    "\n",
    "from plotnine import *\n",
    "\n",
    "from sklearn.model_selection import train_test_split\n",
    "from sklearn.ensemble import RandomForestClassifier\n",
    "from sklearn.svm import SVC\n",
    "\n",
    "COUNTRIES = ['USA', 'JPN', 'AUS', 'DEU']\n",
    "COUNTRIES = ['JPN', 'CAN', 'ESP', 'DEU', 'ITA', 'GBR', 'NOR', 'AUS', 'USA', 'SWE']\n",
    "dlib = DataLib('../SignalData')\n",
    "\n",
    "\n",
    "def mask(tbl):\n",
    "    tbl = tbl[COUNTRIES]\n",
    "    tbl = tbl.loc['1980-01-01':'2010-01-01']\n",
    "    return tbl\n",
    "\n",
    "bond_returns = mask(dlib.pull('BondRetIdx-LocalFX')).resample('M').mean()\n",
    "\n",
    "cash_rate = dlib.pull('RiskFree-Rate')['USA']  # Pull Ticker USGBILL3\n",
    "cash_rate = cash_rate / 100  # convert cash rate into fraction\n",
    "cash_rate = cash_rate.map(lambda r: (1 + r) ** (1 / 12) - 1)  # convert annualized cash rate to quarterly\n",
    "cash_rate = cash_rate.resample('M').apply(lambda x: x[0])  # get rate at start of each month  \n",
    "\n",
    "def calc_signal_returns(bond_returns, signal):\n",
    "    \"\"\"Return a Series of returns (as fraction of initial investment) for a signal.\"\"\"\n",
    "    signal = signal.copy().fillna(0)\n",
    "    bond_returns = bond_returns.pct_change()\n",
    "    bond_returns = bond_returns.fillna(0)\n",
    "    bond_returns += 1\n",
    "\n",
    "    signal_returns = bond_returns * signal\n",
    "    signal_returns = signal_returns.sum(axis=1) + 1\n",
    "    signal_returns /= (1 + cash_rate)\n",
    "    signal_returns = signal_returns.cumprod()\n",
    "    return signal_returns\n",
    "\n",
    "\n",
    "dlib.list()"
   ]
  },
  {
   "cell_type": "code",
   "execution_count": 185,
   "metadata": {},
   "outputs": [
    {
     "data": {
      "text/html": [
       "<div>\n",
       "<style scoped>\n",
       "    .dataframe tbody tr th:only-of-type {\n",
       "        vertical-align: middle;\n",
       "    }\n",
       "\n",
       "    .dataframe tbody tr th {\n",
       "        vertical-align: top;\n",
       "    }\n",
       "\n",
       "    .dataframe thead th {\n",
       "        text-align: right;\n",
       "    }\n",
       "</style>\n",
       "<table border=\"1\" class=\"dataframe\">\n",
       "  <thead>\n",
       "    <tr style=\"text-align: right;\">\n",
       "      <th>country</th>\n",
       "      <th>AUS</th>\n",
       "      <th>DEU</th>\n",
       "      <th>CAN</th>\n",
       "      <th>ESP</th>\n",
       "      <th>FRA</th>\n",
       "      <th>ITA</th>\n",
       "      <th>JPN</th>\n",
       "      <th>NOR</th>\n",
       "      <th>SWE</th>\n",
       "      <th>CHE</th>\n",
       "      <th>GBR</th>\n",
       "      <th>USA</th>\n",
       "    </tr>\n",
       "    <tr>\n",
       "      <th>date</th>\n",
       "      <th></th>\n",
       "      <th></th>\n",
       "      <th></th>\n",
       "      <th></th>\n",
       "      <th></th>\n",
       "      <th></th>\n",
       "      <th></th>\n",
       "      <th></th>\n",
       "      <th></th>\n",
       "      <th></th>\n",
       "      <th></th>\n",
       "      <th></th>\n",
       "    </tr>\n",
       "  </thead>\n",
       "  <tbody>\n",
       "    <tr>\n",
       "      <th>1980-01-01</th>\n",
       "      <td>NaN</td>\n",
       "      <td>49.321</td>\n",
       "      <td>NaN</td>\n",
       "      <td>NaN</td>\n",
       "      <td>NaN</td>\n",
       "      <td>NaN</td>\n",
       "      <td>NaN</td>\n",
       "      <td>NaN</td>\n",
       "      <td>NaN</td>\n",
       "      <td>NaN</td>\n",
       "      <td>26.143</td>\n",
       "      <td>37.527</td>\n",
       "    </tr>\n",
       "    <tr>\n",
       "      <th>1980-01-02</th>\n",
       "      <td>NaN</td>\n",
       "      <td>49.330</td>\n",
       "      <td>NaN</td>\n",
       "      <td>NaN</td>\n",
       "      <td>NaN</td>\n",
       "      <td>NaN</td>\n",
       "      <td>NaN</td>\n",
       "      <td>NaN</td>\n",
       "      <td>NaN</td>\n",
       "      <td>NaN</td>\n",
       "      <td>25.882</td>\n",
       "      <td>37.156</td>\n",
       "    </tr>\n",
       "    <tr>\n",
       "      <th>1980-01-03</th>\n",
       "      <td>NaN</td>\n",
       "      <td>49.163</td>\n",
       "      <td>NaN</td>\n",
       "      <td>NaN</td>\n",
       "      <td>NaN</td>\n",
       "      <td>NaN</td>\n",
       "      <td>NaN</td>\n",
       "      <td>NaN</td>\n",
       "      <td>NaN</td>\n",
       "      <td>NaN</td>\n",
       "      <td>25.911</td>\n",
       "      <td>36.941</td>\n",
       "    </tr>\n",
       "    <tr>\n",
       "      <th>1980-01-04</th>\n",
       "      <td>NaN</td>\n",
       "      <td>49.116</td>\n",
       "      <td>NaN</td>\n",
       "      <td>NaN</td>\n",
       "      <td>NaN</td>\n",
       "      <td>NaN</td>\n",
       "      <td>NaN</td>\n",
       "      <td>NaN</td>\n",
       "      <td>NaN</td>\n",
       "      <td>NaN</td>\n",
       "      <td>26.123</td>\n",
       "      <td>36.859</td>\n",
       "    </tr>\n",
       "    <tr>\n",
       "      <th>1980-01-07</th>\n",
       "      <td>NaN</td>\n",
       "      <td>49.125</td>\n",
       "      <td>NaN</td>\n",
       "      <td>NaN</td>\n",
       "      <td>NaN</td>\n",
       "      <td>NaN</td>\n",
       "      <td>NaN</td>\n",
       "      <td>NaN</td>\n",
       "      <td>NaN</td>\n",
       "      <td>NaN</td>\n",
       "      <td>26.268</td>\n",
       "      <td>36.926</td>\n",
       "    </tr>\n",
       "    <tr>\n",
       "      <th>...</th>\n",
       "      <td>...</td>\n",
       "      <td>...</td>\n",
       "      <td>...</td>\n",
       "      <td>...</td>\n",
       "      <td>...</td>\n",
       "      <td>...</td>\n",
       "      <td>...</td>\n",
       "      <td>...</td>\n",
       "      <td>...</td>\n",
       "      <td>...</td>\n",
       "      <td>...</td>\n",
       "      <td>...</td>\n",
       "    </tr>\n",
       "    <tr>\n",
       "      <th>2020-07-28</th>\n",
       "      <td>1552.723</td>\n",
       "      <td>681.427</td>\n",
       "      <td>974.301</td>\n",
       "      <td>1356.134</td>\n",
       "      <td>891.165</td>\n",
       "      <td>1260.245</td>\n",
       "      <td>326.283</td>\n",
       "      <td>655.674</td>\n",
       "      <td>1180.108</td>\n",
       "      <td>402.646</td>\n",
       "      <td>1071.062</td>\n",
       "      <td>735.002</td>\n",
       "    </tr>\n",
       "    <tr>\n",
       "      <th>2020-07-29</th>\n",
       "      <td>1560.318</td>\n",
       "      <td>680.876</td>\n",
       "      <td>973.545</td>\n",
       "      <td>1357.307</td>\n",
       "      <td>890.201</td>\n",
       "      <td>1262.268</td>\n",
       "      <td>326.350</td>\n",
       "      <td>655.993</td>\n",
       "      <td>1179.792</td>\n",
       "      <td>401.559</td>\n",
       "      <td>1069.524</td>\n",
       "      <td>735.014</td>\n",
       "    </tr>\n",
       "    <tr>\n",
       "      <th>2020-07-30</th>\n",
       "      <td>1561.474</td>\n",
       "      <td>683.691</td>\n",
       "      <td>976.188</td>\n",
       "      <td>1361.476</td>\n",
       "      <td>892.925</td>\n",
       "      <td>1265.716</td>\n",
       "      <td>326.318</td>\n",
       "      <td>657.649</td>\n",
       "      <td>1182.539</td>\n",
       "      <td>402.988</td>\n",
       "      <td>1072.101</td>\n",
       "      <td>737.767</td>\n",
       "    </tr>\n",
       "    <tr>\n",
       "      <th>2020-07-31</th>\n",
       "      <td>1566.580</td>\n",
       "      <td>682.927</td>\n",
       "      <td>974.392</td>\n",
       "      <td>1358.891</td>\n",
       "      <td>890.866</td>\n",
       "      <td>1260.103</td>\n",
       "      <td>326.478</td>\n",
       "      <td>654.939</td>\n",
       "      <td>1179.360</td>\n",
       "      <td>402.702</td>\n",
       "      <td>1070.613</td>\n",
       "      <td>738.148</td>\n",
       "    </tr>\n",
       "    <tr>\n",
       "      <th>2020-08-03</th>\n",
       "      <td>1561.144</td>\n",
       "      <td>682.927</td>\n",
       "      <td>974.392</td>\n",
       "      <td>1358.891</td>\n",
       "      <td>890.866</td>\n",
       "      <td>1260.103</td>\n",
       "      <td>326.155</td>\n",
       "      <td>654.939</td>\n",
       "      <td>1179.360</td>\n",
       "      <td>402.702</td>\n",
       "      <td>1070.613</td>\n",
       "      <td>738.148</td>\n",
       "    </tr>\n",
       "  </tbody>\n",
       "</table>\n",
       "<p>10590 rows × 12 columns</p>\n",
       "</div>"
      ],
      "text/plain": [
       "country          AUS      DEU      CAN       ESP      FRA       ITA      JPN  \\\n",
       "date                                                                           \n",
       "1980-01-01       NaN   49.321      NaN       NaN      NaN       NaN      NaN   \n",
       "1980-01-02       NaN   49.330      NaN       NaN      NaN       NaN      NaN   \n",
       "1980-01-03       NaN   49.163      NaN       NaN      NaN       NaN      NaN   \n",
       "1980-01-04       NaN   49.116      NaN       NaN      NaN       NaN      NaN   \n",
       "1980-01-07       NaN   49.125      NaN       NaN      NaN       NaN      NaN   \n",
       "...              ...      ...      ...       ...      ...       ...      ...   \n",
       "2020-07-28  1552.723  681.427  974.301  1356.134  891.165  1260.245  326.283   \n",
       "2020-07-29  1560.318  680.876  973.545  1357.307  890.201  1262.268  326.350   \n",
       "2020-07-30  1561.474  683.691  976.188  1361.476  892.925  1265.716  326.318   \n",
       "2020-07-31  1566.580  682.927  974.392  1358.891  890.866  1260.103  326.478   \n",
       "2020-08-03  1561.144  682.927  974.392  1358.891  890.866  1260.103  326.155   \n",
       "\n",
       "country         NOR       SWE      CHE       GBR      USA  \n",
       "date                                                       \n",
       "1980-01-01      NaN       NaN      NaN    26.143   37.527  \n",
       "1980-01-02      NaN       NaN      NaN    25.882   37.156  \n",
       "1980-01-03      NaN       NaN      NaN    25.911   36.941  \n",
       "1980-01-04      NaN       NaN      NaN    26.123   36.859  \n",
       "1980-01-07      NaN       NaN      NaN    26.268   36.926  \n",
       "...             ...       ...      ...       ...      ...  \n",
       "2020-07-28  655.674  1180.108  402.646  1071.062  735.002  \n",
       "2020-07-29  655.993  1179.792  401.559  1069.524  735.014  \n",
       "2020-07-30  657.649  1182.539  402.988  1072.101  737.767  \n",
       "2020-07-31  654.939  1179.360  402.702  1070.613  738.148  \n",
       "2020-08-03  654.939  1179.360  402.702  1070.613  738.148  \n",
       "\n",
       "[10590 rows x 12 columns]"
      ]
     },
     "execution_count": 185,
     "metadata": {},
     "output_type": "execute_result"
    }
   ],
   "source": [
    "dlib.pull('BondRetIdx-LocalFX')"
   ]
  },
  {
   "cell_type": "code",
   "execution_count": 186,
   "metadata": {},
   "outputs": [
    {
     "name": "stderr",
     "output_type": "stream",
     "text": [
      "/home/dcdanko/Dev/Internship2020/globalbonds/globalbonds/indicators/normalization.py:12: FutureWarning: Currently, 'apply' passes the values as ndarrays to the applied function. In the future, this will change to passing it as Series objects. You need to specify 'raw=True' to keep the current behaviour, and you can pass 'raw=False' to silence this warning\n",
      "  lambda x: x[:window - gap].mean()\n",
      "/home/dcdanko/Dev/Internship2020/globalbonds/globalbonds/indicators/normalization.py:29: FutureWarning: Currently, 'apply' passes the values as ndarrays to the applied function. In the future, this will change to passing it as Series objects. You need to specify 'raw=True' to keep the current behaviour, and you can pass 'raw=False' to silence this warning\n",
      "  lambda x: x[:window - gap].mean()\n"
     ]
    },
    {
     "name": "stdout",
     "output_type": "stream",
     "text": [
      "(355, 4)\n"
     ]
    },
    {
     "data": {
      "text/plain": [
       "date\n",
       "1980-01    0.990659\n",
       "1980-02    0.979451\n",
       "1980-03    0.968567\n",
       "1980-04    0.960412\n",
       "1980-05    0.954316\n",
       "             ...   \n",
       "2009-09    0.292661\n",
       "2009-10    0.290770\n",
       "2009-11    0.291649\n",
       "2009-12    0.296997\n",
       "2010-01    0.300465\n",
       "Freq: M, Length: 361, dtype: float64"
      ]
     },
     "execution_count": 186,
     "metadata": {},
     "output_type": "execute_result"
    }
   ],
   "source": [
    "m2 = mask(dlib.pull('M2-inUSD')).iloc[6:]\n",
    "m2_3m = m2.rolling(3).mean()\n",
    "m2_12m = m2.rolling(12).mean()\n",
    "m2_delta = m2_3m / m2_12m\n",
    "m2 = Signal('M2 Delta', m2_delta)\n",
    "\n",
    "m2_sig = signalize(m2.data.resample('M').mean())\n",
    "m2_returns = calc_signal_returns(bond_returns, m2_sig)\n",
    "print(m2_sig.shape)\n",
    "m2_returns"
   ]
  },
  {
   "cell_type": "code",
   "execution_count": 187,
   "metadata": {},
   "outputs": [
    {
     "name": "stdout",
     "output_type": "stream",
     "text": [
      "(355, 4)\n"
     ]
    },
    {
     "data": {
      "text/plain": [
       "date\n",
       "1980-01    0.990659\n",
       "1980-02    0.979451\n",
       "1980-03    0.968567\n",
       "1980-04    0.960412\n",
       "1980-05    0.954316\n",
       "             ...   \n",
       "2009-09    0.169188\n",
       "2009-10    0.170656\n",
       "2009-11    0.170175\n",
       "2009-12    0.168866\n",
       "2010-01    0.168256\n",
       "Freq: M, Length: 361, dtype: float64"
      ]
     },
     "execution_count": 187,
     "metadata": {},
     "output_type": "execute_result"
    }
   ],
   "source": [
    "cpi = mask(dlib.pull('CoreCPI-SA')).iloc[3:]\n",
    "cpi = derivative(cpi, s=3)\n",
    "cpi = - cpi\n",
    "cpi = Signal('CPI', cpi)\n",
    "\n",
    "cpi_sig = signalize(cpi.data.resample('M').mean())\n",
    "cpi_returns = calc_signal_returns(bond_returns, cpi_sig)\n",
    "print(cpi_sig.shape)\n",
    "cpi_returns"
   ]
  },
  {
   "cell_type": "code",
   "execution_count": 188,
   "metadata": {},
   "outputs": [
    {
     "name": "stdout",
     "output_type": "stream",
     "text": [
      "(355, 4)\n"
     ]
    },
    {
     "name": "stderr",
     "output_type": "stream",
     "text": [
      "/home/dcdanko/miniconda3/lib/python3.7/site-packages/ipykernel_launcher.py:4: FutureWarning: Currently, 'apply' passes the values as ndarrays to the applied function. In the future, this will change to passing it as Series objects. You need to specify 'raw=True' to keep the current behaviour, and you can pass 'raw=False' to silence this warning\n",
      "  after removing the cwd from sys.path.\n"
     ]
    },
    {
     "data": {
      "text/plain": [
       "date\n",
       "1980-01    0.990659\n",
       "1980-02    0.979451\n",
       "1980-03    0.968567\n",
       "1980-04    0.960412\n",
       "1980-05    0.954316\n",
       "             ...   \n",
       "2009-09    0.322507\n",
       "2009-10    0.320493\n",
       "2009-11    0.319924\n",
       "2009-12    0.327940\n",
       "2010-01    0.329648\n",
       "Freq: M, Length: 361, dtype: float64"
      ]
     },
     "execution_count": 188,
     "metadata": {},
     "output_type": "execute_result"
    }
   ],
   "source": [
    "fx = mask(dlib.pull('fxVsUSD'))\n",
    "fx['USA'] = 1 / fx.drop(columns='USA').mean(axis=1)\n",
    "W = 2\n",
    "fx = fx.rolling(W).apply(lambda x: x[W - 1] / x[:W - 1].mean())\n",
    "fx = derivative(fx, s=6)\n",
    "fx = fx.applymap(lambda x: 1 / x)\n",
    "fx = Signal('FX', fx, normalizer=lambda x: x)\n",
    "\n",
    "fx_sig = signalize(fx.data.resample('M').mean())\n",
    "fx_returns = calc_signal_returns(bond_returns, fx_sig)\n",
    "print(fx_sig.shape)\n",
    "fx_returns"
   ]
  },
  {
   "cell_type": "code",
   "execution_count": 189,
   "metadata": {},
   "outputs": [
    {
     "data": {
      "text/plain": [
       "date\n",
       "1980-01    0.990659\n",
       "1980-02    0.979451\n",
       "1980-03    0.968567\n",
       "1980-04    0.960412\n",
       "1980-05    0.954316\n",
       "             ...   \n",
       "2009-09    0.180698\n",
       "2009-10    0.181406\n",
       "2009-11    0.181212\n",
       "2009-12    0.180102\n",
       "2010-01    0.181081\n",
       "Freq: M, Length: 361, dtype: float64"
      ]
     },
     "execution_count": 189,
     "metadata": {},
     "output_type": "execute_result"
    }
   ],
   "source": [
    "comb_sig = signalize(-1 * fx_sig + 1 * cpi_sig + 1 * m2_sig)\n",
    "\n",
    "#pairwise_extreme_signal(comb_sig, m2_sig)\n",
    "calc_signal_returns(bond_returns, comb_sig)"
   ]
  },
  {
   "cell_type": "code",
   "execution_count": 190,
   "metadata": {},
   "outputs": [
    {
     "data": {
      "text/plain": [
       "date\n",
       "1980-01    0.990659\n",
       "1980-02    0.979451\n",
       "1980-03    0.968567\n",
       "1980-04    0.960412\n",
       "1980-05    0.954316\n",
       "             ...   \n",
       "2009-09    0.183498\n",
       "2009-10    0.184217\n",
       "2009-11    0.183890\n",
       "2009-12    0.188497\n",
       "2010-01    0.189521\n",
       "Freq: M, Length: 361, dtype: float64"
      ]
     },
     "execution_count": 190,
     "metadata": {},
     "output_type": "execute_result"
    }
   ],
   "source": [
    "comb_sig = signalize(-1 * fx_sig + 1 * cpi_sig + 1 * m2_sig)\n",
    "\n",
    "comb_sig, comb_returns = pairwise_extreme_signal(comb_sig, fx_sig)\n",
    "#comb_sig, comb_returns = pairwise_extreme_signal(comb_sig, cpi_sig)\n",
    "comb_returns"
   ]
  },
  {
   "cell_type": "code",
   "execution_count": 176,
   "metadata": {},
   "outputs": [
    {
     "data": {
      "text/html": [
       "<div>\n",
       "<style scoped>\n",
       "    .dataframe tbody tr th:only-of-type {\n",
       "        vertical-align: middle;\n",
       "    }\n",
       "\n",
       "    .dataframe tbody tr th {\n",
       "        vertical-align: top;\n",
       "    }\n",
       "\n",
       "    .dataframe thead th {\n",
       "        text-align: right;\n",
       "    }\n",
       "</style>\n",
       "<table border=\"1\" class=\"dataframe\">\n",
       "  <thead>\n",
       "    <tr style=\"text-align: right;\">\n",
       "      <th></th>\n",
       "      <th>fx</th>\n",
       "      <th>cpi</th>\n",
       "      <th>m2</th>\n",
       "    </tr>\n",
       "    <tr>\n",
       "      <th>date</th>\n",
       "      <th></th>\n",
       "      <th></th>\n",
       "      <th></th>\n",
       "    </tr>\n",
       "  </thead>\n",
       "  <tbody>\n",
       "    <tr>\n",
       "      <th>1980-07</th>\n",
       "      <td>NaN</td>\n",
       "      <td>NaN</td>\n",
       "      <td>NaN</td>\n",
       "    </tr>\n",
       "    <tr>\n",
       "      <th>1980-08</th>\n",
       "      <td>0.573254</td>\n",
       "      <td>NaN</td>\n",
       "      <td>NaN</td>\n",
       "    </tr>\n",
       "    <tr>\n",
       "      <th>1980-09</th>\n",
       "      <td>0.630549</td>\n",
       "      <td>NaN</td>\n",
       "      <td>NaN</td>\n",
       "    </tr>\n",
       "    <tr>\n",
       "      <th>1980-10</th>\n",
       "      <td>0.799294</td>\n",
       "      <td>NaN</td>\n",
       "      <td>NaN</td>\n",
       "    </tr>\n",
       "    <tr>\n",
       "      <th>1980-11</th>\n",
       "      <td>0.829870</td>\n",
       "      <td>NaN</td>\n",
       "      <td>NaN</td>\n",
       "    </tr>\n",
       "    <tr>\n",
       "      <th>...</th>\n",
       "      <td>...</td>\n",
       "      <td>...</td>\n",
       "      <td>...</td>\n",
       "    </tr>\n",
       "    <tr>\n",
       "      <th>2020-04</th>\n",
       "      <td>0.803463</td>\n",
       "      <td>0.899951</td>\n",
       "      <td>0.618024</td>\n",
       "    </tr>\n",
       "    <tr>\n",
       "      <th>2020-05</th>\n",
       "      <td>0.593541</td>\n",
       "      <td>0.900941</td>\n",
       "      <td>0.886447</td>\n",
       "    </tr>\n",
       "    <tr>\n",
       "      <th>2020-06</th>\n",
       "      <td>0.395050</td>\n",
       "      <td>0.708190</td>\n",
       "      <td>0.544947</td>\n",
       "    </tr>\n",
       "    <tr>\n",
       "      <th>2020-07</th>\n",
       "      <td>0.496972</td>\n",
       "      <td>NaN</td>\n",
       "      <td>NaN</td>\n",
       "    </tr>\n",
       "    <tr>\n",
       "      <th>2020-08</th>\n",
       "      <td>NaN</td>\n",
       "      <td>NaN</td>\n",
       "      <td>NaN</td>\n",
       "    </tr>\n",
       "  </tbody>\n",
       "</table>\n",
       "<p>482 rows × 3 columns</p>\n",
       "</div>"
      ],
      "text/plain": [
       "               fx       cpi        m2\n",
       "date                                 \n",
       "1980-07       NaN       NaN       NaN\n",
       "1980-08  0.573254       NaN       NaN\n",
       "1980-09  0.630549       NaN       NaN\n",
       "1980-10  0.799294       NaN       NaN\n",
       "1980-11  0.829870       NaN       NaN\n",
       "...           ...       ...       ...\n",
       "2020-04  0.803463  0.899951  0.618024\n",
       "2020-05  0.593541  0.900941  0.886447\n",
       "2020-06  0.395050  0.708190  0.544947\n",
       "2020-07  0.496972       NaN       NaN\n",
       "2020-08       NaN       NaN       NaN\n",
       "\n",
       "[482 rows x 3 columns]"
      ]
     },
     "execution_count": 176,
     "metadata": {},
     "output_type": "execute_result"
    }
   ],
   "source": [
    "sigs = pd.DataFrame({\n",
    "    'fx': fx_sig.apply(extremity, axis=1),\n",
    "    'cpi': cpi_sig.apply(extremity, axis=1),\n",
    "    'm2': m2_sig.apply(extremity, axis=1),\n",
    "})\n",
    "sigs * sigs\n",
    "\n"
   ]
  },
  {
   "cell_type": "code",
   "execution_count": 177,
   "metadata": {},
   "outputs": [
    {
     "data": {
      "text/html": [
       "<div>\n",
       "<style scoped>\n",
       "    .dataframe tbody tr th:only-of-type {\n",
       "        vertical-align: middle;\n",
       "    }\n",
       "\n",
       "    .dataframe tbody tr th {\n",
       "        vertical-align: top;\n",
       "    }\n",
       "\n",
       "    .dataframe thead th {\n",
       "        text-align: right;\n",
       "    }\n",
       "</style>\n",
       "<table border=\"1\" class=\"dataframe\">\n",
       "  <thead>\n",
       "    <tr style=\"text-align: right;\">\n",
       "      <th></th>\n",
       "      <th>fx</th>\n",
       "      <th>cpi</th>\n",
       "      <th>m2</th>\n",
       "    </tr>\n",
       "    <tr>\n",
       "      <th>date</th>\n",
       "      <th></th>\n",
       "      <th></th>\n",
       "      <th></th>\n",
       "    </tr>\n",
       "  </thead>\n",
       "  <tbody>\n",
       "    <tr>\n",
       "      <th>1980-07</th>\n",
       "      <td>NaN</td>\n",
       "      <td>NaN</td>\n",
       "      <td>NaN</td>\n",
       "    </tr>\n",
       "    <tr>\n",
       "      <th>1980-08</th>\n",
       "      <td>1.000000</td>\n",
       "      <td>NaN</td>\n",
       "      <td>NaN</td>\n",
       "    </tr>\n",
       "    <tr>\n",
       "      <th>1980-09</th>\n",
       "      <td>1.000000</td>\n",
       "      <td>NaN</td>\n",
       "      <td>NaN</td>\n",
       "    </tr>\n",
       "    <tr>\n",
       "      <th>1980-10</th>\n",
       "      <td>1.000000</td>\n",
       "      <td>NaN</td>\n",
       "      <td>NaN</td>\n",
       "    </tr>\n",
       "    <tr>\n",
       "      <th>1980-11</th>\n",
       "      <td>1.000000</td>\n",
       "      <td>NaN</td>\n",
       "      <td>NaN</td>\n",
       "    </tr>\n",
       "    <tr>\n",
       "      <th>...</th>\n",
       "      <td>...</td>\n",
       "      <td>...</td>\n",
       "      <td>...</td>\n",
       "    </tr>\n",
       "    <tr>\n",
       "      <th>2020-04</th>\n",
       "      <td>0.346106</td>\n",
       "      <td>0.387670</td>\n",
       "      <td>0.266225</td>\n",
       "    </tr>\n",
       "    <tr>\n",
       "      <th>2020-05</th>\n",
       "      <td>0.249290</td>\n",
       "      <td>0.378399</td>\n",
       "      <td>0.372312</td>\n",
       "    </tr>\n",
       "    <tr>\n",
       "      <th>2020-06</th>\n",
       "      <td>0.239688</td>\n",
       "      <td>0.429678</td>\n",
       "      <td>0.330634</td>\n",
       "    </tr>\n",
       "    <tr>\n",
       "      <th>2020-07</th>\n",
       "      <td>1.000000</td>\n",
       "      <td>NaN</td>\n",
       "      <td>NaN</td>\n",
       "    </tr>\n",
       "    <tr>\n",
       "      <th>2020-08</th>\n",
       "      <td>NaN</td>\n",
       "      <td>NaN</td>\n",
       "      <td>NaN</td>\n",
       "    </tr>\n",
       "  </tbody>\n",
       "</table>\n",
       "<p>482 rows × 3 columns</p>\n",
       "</div>"
      ],
      "text/plain": [
       "               fx       cpi        m2\n",
       "date                                 \n",
       "1980-07       NaN       NaN       NaN\n",
       "1980-08  1.000000       NaN       NaN\n",
       "1980-09  1.000000       NaN       NaN\n",
       "1980-10  1.000000       NaN       NaN\n",
       "1980-11  1.000000       NaN       NaN\n",
       "...           ...       ...       ...\n",
       "2020-04  0.346106  0.387670  0.266225\n",
       "2020-05  0.249290  0.378399  0.372312\n",
       "2020-06  0.239688  0.429678  0.330634\n",
       "2020-07  1.000000       NaN       NaN\n",
       "2020-08       NaN       NaN       NaN\n",
       "\n",
       "[482 rows x 3 columns]"
      ]
     },
     "execution_count": 177,
     "metadata": {},
     "output_type": "execute_result"
    }
   ],
   "source": [
    "sig_sq = sigs * sigs\n",
    "weights = (sig_sq.T / sig_sq.fillna(0).sum(axis=1)).T\n",
    "weights\n"
   ]
  },
  {
   "cell_type": "code",
   "execution_count": 181,
   "metadata": {},
   "outputs": [
    {
     "data": {
      "text/plain": [
       "date\n",
       "1980-01    0.990659\n",
       "1980-02    0.979451\n",
       "1980-03    0.968567\n",
       "1980-04    0.960412\n",
       "1980-05    0.954316\n",
       "             ...   \n",
       "2020-04    0.335128\n",
       "2020-05    0.326789\n",
       "2020-06    0.329268\n",
       "2020-07    0.329243\n",
       "2020-08    0.329213\n",
       "Freq: M, Length: 488, dtype: float64"
      ]
     },
     "execution_count": 181,
     "metadata": {},
     "output_type": "execute_result"
    }
   ],
   "source": [
    "\n",
    "\n",
    "comb_sig = signalize((-1 * weights['fx'] * fx_sig.T).T + (1.1 * weights['cpi'] * cpi_sig.T).T + (1 * weights['m2'] * m2_sig.T).T)\n",
    "\n",
    "calc_signal_returns(bond_returns, comb_sig)"
   ]
  },
  {
   "cell_type": "code",
   "execution_count": 195,
   "metadata": {},
   "outputs": [
    {
     "name": "stdout",
     "output_type": "stream",
     "text": [
      "(355, 10)\n"
     ]
    },
    {
     "name": "stderr",
     "output_type": "stream",
     "text": [
      "/home/dcdanko/Dev/Internship2020/globalbonds/globalbonds/indicators/return_utils.py:21: FutureWarning: Currently, 'apply' passes the values as ndarrays to the applied function. In the future, this will change to passing it as Series objects. You need to specify 'raw=True' to keep the current behaviour, and you can pass 'raw=False' to silence this warning\n",
      "  momentum_signal = momentum_signal.rolling(window).apply(lambda x: x[:window - 1].mean())\n"
     ]
    },
    {
     "data": {
      "text/plain": [
       "date\n",
       "1980-01    0.990659\n",
       "1980-02    0.979451\n",
       "1980-03    0.968567\n",
       "1980-04    0.960412\n",
       "1980-05    0.954316\n",
       "             ...   \n",
       "2009-09    0.804941\n",
       "2009-10    0.820449\n",
       "2009-11    0.815608\n",
       "2009-12    0.827592\n",
       "2010-01    0.838046\n",
       "Freq: M, Length: 361, dtype: float64"
      ]
     },
     "execution_count": 195,
     "metadata": {},
     "output_type": "execute_result"
    }
   ],
   "source": [
    "mom_sig = get_momentum_signal(bond_returns, window=12).iloc[6:]\n",
    "mom_returns = calc_signal_returns(bond_returns, mom_sig)\n",
    "print(mom_sig.shape)\n",
    "mom_returns"
   ]
  },
  {
   "cell_type": "code",
   "execution_count": 131,
   "metadata": {},
   "outputs": [
    {
     "data": {
      "text/plain": [
       "date\n",
       "1980-01    0.990659\n",
       "1980-02    0.979451\n",
       "1980-03    0.968567\n",
       "1980-04    0.960412\n",
       "1980-05    0.954316\n",
       "             ...   \n",
       "2020-04    0.388729\n",
       "2020-05    0.377642\n",
       "2020-06    0.386443\n",
       "2020-07    0.384057\n",
       "2020-08    0.384022\n",
       "Freq: M, Length: 488, dtype: float64"
      ]
     },
     "execution_count": 131,
     "metadata": {},
     "output_type": "execute_result"
    }
   ],
   "source": [
    "sigs = pd.DataFrame({\n",
    "    'fx': fx_sig.apply(extremity, axis=1),\n",
    "    'cpi': cpi_sig.apply(extremity, axis=1),\n",
    "    'm2': m2_sig.apply(extremity, axis=1),\n",
    "})\n",
    "\n",
    "extremes = sigs.idxmax(axis=1).loc[fx_sig.index]\n",
    "ext_sig = fx_sig.copy()\n",
    "ext_sig.loc[extremes == 'm2'] = m2_sig.loc[fx_sig.index][extremes == 'm2']\n",
    "ext_sig.loc[extremes == 'cpi'] = cpi_sig.loc[fx_sig.index][extremes == 'cpi']\n",
    "\n",
    "ext_returns = calc_signal_returns(bond_returns, ext_sig)\n",
    "ext_returns"
   ]
  },
  {
   "cell_type": "code",
   "execution_count": null,
   "metadata": {},
   "outputs": [],
   "source": []
  },
  {
   "cell_type": "code",
   "execution_count": 132,
   "metadata": {},
   "outputs": [
    {
     "data": {
      "text/plain": [
       "date\n",
       "1980-01    0.990659\n",
       "1980-02    0.979451\n",
       "1980-03    0.968567\n",
       "1980-04    0.960412\n",
       "1980-05    0.954316\n",
       "             ...   \n",
       "2020-04    0.396828\n",
       "2020-05    0.392152\n",
       "2020-06    0.388747\n",
       "2020-07    0.388718\n",
       "2020-08    0.388682\n",
       "Freq: M, Length: 488, dtype: float64"
      ]
     },
     "execution_count": 132,
     "metadata": {},
     "output_type": "execute_result"
    }
   ],
   "source": [
    "\n",
    "def pairwise_extreme_signal(sig1, sig2, rev=False):\n",
    "    pick2 = sig2.apply(extremity, axis=1) > sig1.apply(extremity, axis=1)\n",
    "    if rev:\n",
    "        pick2 = ~pick2\n",
    "    ext_sig = sig1.copy()\n",
    "    ext_sig[pick2] = sig2[pick2]\n",
    "\n",
    "    ext_returns = calc_signal_returns(bond_returns, ext_sig)\n",
    "    return ext_sig, ext_returns\n",
    "\n",
    "\n",
    "fx_m2_sig, fx_m2_returns = pairwise_extreme_signal(fx_sig, m2_sig, rev=True)\n",
    "fx_m2_returns"
   ]
  },
  {
   "cell_type": "code",
   "execution_count": 133,
   "metadata": {},
   "outputs": [
    {
     "data": {
      "text/plain": [
       "date\n",
       "1980-01    0.990659\n",
       "1980-02    0.979451\n",
       "1980-03    0.968567\n",
       "1980-04    0.960412\n",
       "1980-05    0.954316\n",
       "             ...   \n",
       "2020-04    0.383677\n",
       "2020-05    0.372734\n",
       "2020-06    0.381421\n",
       "2020-07    0.379066\n",
       "2020-08    0.379031\n",
       "Freq: M, Length: 488, dtype: float64"
      ]
     },
     "execution_count": 133,
     "metadata": {},
     "output_type": "execute_result"
    }
   ],
   "source": [
    "fx_cpi_sig, fx_cpi_returns = pairwise_extreme_signal(fx_sig, cpi_sig)\n",
    "fx_cpi_returns"
   ]
  },
  {
   "cell_type": "code",
   "execution_count": 134,
   "metadata": {},
   "outputs": [
    {
     "data": {
      "text/plain": [
       "date\n",
       "1980-01    0.990659\n",
       "1980-02    0.979451\n",
       "1980-03    0.968567\n",
       "1980-04    0.960412\n",
       "1980-05    0.954316\n",
       "             ...   \n",
       "2020-04    0.272446\n",
       "2020-05    0.264676\n",
       "2020-06    0.270844\n",
       "2020-07    0.270824\n",
       "2020-08    0.270799\n",
       "Freq: M, Length: 488, dtype: float64"
      ]
     },
     "execution_count": 134,
     "metadata": {},
     "output_type": "execute_result"
    }
   ],
   "source": [
    "m2_cpi_sig, m2_cpi_returns = pairwise_extreme_signal(m2_sig, cpi_sig, rev=False)\n",
    "m2_cpi_returns"
   ]
  },
  {
   "cell_type": "code",
   "execution_count": 135,
   "metadata": {},
   "outputs": [
    {
     "data": {
      "text/plain": [
       "date\n",
       "1980-01    0.990659\n",
       "1980-02    0.979451\n",
       "1980-03    0.968567\n",
       "1980-04    0.960412\n",
       "1980-05    0.954316\n",
       "             ...   \n",
       "2020-04    1.478258\n",
       "2020-05    1.470190\n",
       "2020-06    1.450252\n",
       "2020-07    1.452666\n",
       "2020-08    1.465979\n",
       "Freq: M, Length: 488, dtype: float64"
      ]
     },
     "execution_count": 135,
     "metadata": {},
     "output_type": "execute_result"
    }
   ],
   "source": [
    "mom_returns"
   ]
  },
  {
   "cell_type": "code",
   "execution_count": 136,
   "metadata": {},
   "outputs": [
    {
     "data": {
      "text/plain": [
       "date\n",
       "1980-01    0.990659\n",
       "1980-02    0.979451\n",
       "1980-03    0.968567\n",
       "1980-04    0.960412\n",
       "1980-05    0.954316\n",
       "             ...   \n",
       "2020-04    0.945262\n",
       "2020-05    0.940103\n",
       "2020-06    0.927354\n",
       "2020-07    0.928898\n",
       "2020-08    0.928813\n",
       "Freq: M, Length: 488, dtype: float64"
      ]
     },
     "execution_count": 136,
     "metadata": {},
     "output_type": "execute_result"
    }
   ],
   "source": [
    "pairwise_extreme_signal(fx_sig, mom_sig, rev=False)[1]"
   ]
  },
  {
   "cell_type": "code",
   "execution_count": 137,
   "metadata": {},
   "outputs": [
    {
     "data": {
      "text/plain": [
       "date\n",
       "1980-01    0.990659\n",
       "1980-02    0.979451\n",
       "1980-03    0.968567\n",
       "1980-04    0.960412\n",
       "1980-05    0.954316\n",
       "             ...   \n",
       "2020-04    0.931494\n",
       "2020-05    0.926410\n",
       "2020-06    0.914047\n",
       "2020-07    0.915568\n",
       "2020-08    0.923958\n",
       "Freq: M, Length: 488, dtype: float64"
      ]
     },
     "execution_count": 137,
     "metadata": {},
     "output_type": "execute_result"
    }
   ],
   "source": [
    "pairwise_extreme_signal(m2_sig, mom_sig, rev=True)[1]"
   ]
  },
  {
   "cell_type": "code",
   "execution_count": 138,
   "metadata": {},
   "outputs": [
    {
     "name": "stdout",
     "output_type": "stream",
     "text": [
      "date\n",
      "1980-01    0.990659\n",
      "1980-02    0.979451\n",
      "1980-03    0.968567\n",
      "1980-04    0.960412\n",
      "1980-05    0.954316\n",
      "             ...   \n",
      "2020-04    0.552320\n",
      "2020-05    0.545812\n",
      "2020-06    0.541072\n",
      "2020-07    0.537731\n",
      "2020-08    0.542659\n",
      "Freq: M, Length: 488, dtype: float64\n",
      "date\n",
      "1980-01    0.990659\n",
      "1980-02    0.979451\n",
      "1980-03    0.968567\n",
      "1980-04    0.960412\n",
      "1980-05    0.954316\n",
      "             ...   \n",
      "2020-04    0.945262\n",
      "2020-05    0.940103\n",
      "2020-06    0.927354\n",
      "2020-07    0.928898\n",
      "2020-08    0.928813\n",
      "Freq: M, Length: 488, dtype: float64\n",
      "date\n",
      "1980-01    0.990659\n",
      "1980-02    0.979451\n",
      "1980-03    0.968567\n",
      "1980-04    0.960412\n",
      "1980-05    0.954316\n",
      "             ...   \n",
      "2020-04    0.931494\n",
      "2020-05    0.926410\n",
      "2020-06    0.914047\n",
      "2020-07    0.915568\n",
      "2020-08    0.923958\n",
      "Freq: M, Length: 488, dtype: float64\n",
      "date\n",
      "1980-01    0.990659\n",
      "1980-02    0.979451\n",
      "1980-03    0.968567\n",
      "1980-04    0.960412\n",
      "1980-05    0.954316\n",
      "             ...   \n",
      "2020-04    0.419227\n",
      "2020-05    0.415484\n",
      "2020-06    0.409849\n",
      "2020-07    0.409818\n",
      "2020-08    0.409781\n",
      "Freq: M, Length: 488, dtype: float64\n",
      "date\n",
      "1980-01    0.990659\n",
      "1980-02    0.979451\n",
      "1980-03    0.968567\n",
      "1980-04    0.960412\n",
      "1980-05    0.954316\n",
      "             ...   \n",
      "2020-04    0.545323\n",
      "2020-05    0.542347\n",
      "2020-06    0.534992\n",
      "2020-07    0.535882\n",
      "2020-08    0.540793\n",
      "Freq: M, Length: 488, dtype: float64\n",
      "date\n",
      "1980-01    0.990659\n",
      "1980-02    0.979451\n",
      "1980-03    0.968567\n",
      "1980-04    0.960412\n",
      "1980-05    0.954316\n",
      "             ...   \n",
      "2020-04    0.781307\n",
      "2020-05    0.759023\n",
      "2020-06    0.776713\n",
      "2020-07    0.776655\n",
      "2020-08    0.776584\n",
      "Freq: M, Length: 488, dtype: float64\n",
      "date\n",
      "1980-01    0.990659\n",
      "1980-02    0.979451\n",
      "1980-03    0.968567\n",
      "1980-04    0.960412\n",
      "1980-05    0.954316\n",
      "             ...   \n",
      "2020-04    0.688094\n",
      "2020-05    0.684339\n",
      "2020-06    0.675058\n",
      "2020-07    0.670889\n",
      "2020-08    0.677037\n",
      "Freq: M, Length: 488, dtype: float64\n",
      "date\n",
      "1980-01    0.990659\n",
      "1980-02    0.979451\n",
      "1980-03    0.968567\n",
      "1980-04    0.960412\n",
      "1980-05    0.954316\n",
      "             ...   \n",
      "2020-04    0.824268\n",
      "2020-05    0.800759\n",
      "2020-06    0.819422\n",
      "2020-07    0.820786\n",
      "2020-08    0.820711\n",
      "Freq: M, Length: 488, dtype: float64\n",
      "date\n",
      "1980-01    0.990659\n",
      "1980-02    0.979451\n",
      "1980-03    0.968567\n",
      "1980-04    0.960412\n",
      "1980-05    0.954316\n",
      "             ...   \n",
      "2020-04    0.687689\n",
      "2020-05    0.683936\n",
      "2020-06    0.674661\n",
      "2020-07    0.675784\n",
      "2020-08    0.681977\n",
      "Freq: M, Length: 488, dtype: float64\n",
      "date\n",
      "1980-01    0.990659\n",
      "1980-02    0.979451\n",
      "1980-03    0.968567\n",
      "1980-04    0.960412\n",
      "1980-05    0.954316\n",
      "             ...   \n",
      "2020-04    0.585651\n",
      "2020-05    0.568947\n",
      "2020-06    0.582207\n",
      "2020-07    0.582164\n",
      "2020-08    0.582110\n",
      "Freq: M, Length: 488, dtype: float64\n",
      "date\n",
      "1980-01    0.990659\n",
      "1980-02    0.979451\n",
      "1980-03    0.968567\n",
      "1980-04    0.960412\n",
      "1980-05    0.954316\n",
      "             ...   \n",
      "2020-04    0.602725\n",
      "2020-05    0.595623\n",
      "2020-06    0.590451\n",
      "2020-07    0.591434\n",
      "2020-08    0.596854\n",
      "Freq: M, Length: 488, dtype: float64\n",
      "date\n",
      "1980-01    0.990659\n",
      "1980-02    0.979451\n",
      "1980-03    0.968567\n",
      "1980-04    0.960412\n",
      "1980-05    0.954316\n",
      "             ...   \n",
      "2020-04    0.973269\n",
      "2020-05    0.967957\n",
      "2020-06    0.954831\n",
      "2020-07    0.954759\n",
      "2020-08    0.954672\n",
      "Freq: M, Length: 488, dtype: float64\n"
     ]
    }
   ],
   "source": [
    "\n",
    "for sig in [fx_sig, m2_sig, cpi_sig, fx_cpi_sig, m2_cpi_sig, fx_m2_sig]:\n",
    "    for a in [True, False]:\n",
    "        print(pairwise_extreme_signal(sig, mom_sig, rev=a)[1])"
   ]
  },
  {
   "cell_type": "code",
   "execution_count": 194,
   "metadata": {},
   "outputs": [
    {
     "name": "stderr",
     "output_type": "stream",
     "text": [
      "/home/dcdanko/miniconda3/lib/python3.7/site-packages/plotnine/geoms/geom_path.py:75: PlotnineWarning: geom_path: Removed 127 rows containing missing values.\n",
      "  warn(msg.format(n1-n2), PlotnineWarning)\n",
      "/home/dcdanko/miniconda3/lib/python3.7/site-packages/plotnine/layer.py:452: PlotnineWarning: geom_point : Removed 763 rows containing missing values.\n",
      "  self.data = self.geom.handle_na(self.data)\n"
     ]
    },
    {
     "data": {
      "image/png": "[encoded data removed]",
      "text/plain": [
       "<Figure size 1600x1200 with 1 Axes>"
      ]
     },
     "metadata": {},
     "output_type": "display_data"
    },
    {
     "data": {
      "text/plain": [
       "<ggplot: (8739433829433)>"
      ]
     },
     "execution_count": 194,
     "metadata": {},
     "output_type": "execute_result"
    }
   ],
   "source": [
    "\n",
    "def get_risk_free_return(bond_returns):\n",
    "    risk_free_returns = bond_returns['USA'].pct_change() + 1\n",
    "    risk_free_returns /= (1 + cash_rate)\n",
    "    risk_free_returns = risk_free_returns.cumprod()\n",
    "    return risk_free_returns\n",
    "\n",
    "\n",
    "df = {\n",
    "    'FX': fx_returns,\n",
    "    'CPI': cpi_returns,\n",
    "    'M2': m2_returns,\n",
    "    \n",
    "    'FX & CPI [extreme]': fx_cpi_returns,\n",
    "    'FX & M2 [extreme]': fx_m2_returns,\n",
    "    'M2 & CPI [extreme]': m2_cpi_returns,\n",
    "    \n",
    "    'AAA Optimal': calc_signal_returns(bond_returns, get_optimal_signal(bond_returns)),\n",
    "    'ZZZ Risk Free (beta)': get_risk_free_return(bond_returns),\n",
    "    \n",
    "    'BBB Momentum': mom_returns,\n",
    "}\n",
    "# for i in range(5):\n",
    "#     df[f'random {i}'] = calc_signal_returns(bond_returns, get_random_signal(bond_returns))\n",
    "df = pd.DataFrame(df)\n",
    "df['date'] = df.index.to_series().map(lambda x: x.to_timestamp())\n",
    "df = df.melt(id_vars='date')\n",
    "df['color'] = df['variable'].map(lambda x: x.split()[0] if 'random' in x else x)\n",
    "(\n",
    "    ggplot(df, aes(x='date', y='value', color='color')) +\n",
    "        geom_line(aes(group='variable')) +\n",
    "        geom_point(aes(group='variable'), size=2) +\n",
    "        scale_color_brewer(type='qualitative', palette=6) +\n",
    "        ylab('Returns') +\n",
    "        xlab('Date') +\n",
    "        scale_x_date() +\n",
    "        scale_y_log10() +\n",
    "        labs(color='Signal') +\n",
    "        theme(\n",
    "            text=element_text(size=20),\n",
    "            figure_size=(16, 12),\n",
    "            legend_position='right',\n",
    "            axis_text_x=element_text(size=20, angle=90, hjust=0),\n",
    "            panel_border=element_rect(colour=\"black\", size=2),\n",
    "        )\n",
    ")"
   ]
  },
  {
   "cell_type": "code",
   "execution_count": 121,
   "metadata": {},
   "outputs": [
    {
     "data": {
      "text/plain": [
       "date\n",
       "1980-01         NaN\n",
       "1980-02    0.891270\n",
       "1980-03    0.957208\n",
       "1980-04    1.052070\n",
       "1980-05    1.069053\n",
       "             ...   \n",
       "2020-04    1.030300\n",
       "2020-05    0.996409\n",
       "2020-06    0.996135\n",
       "2020-07    1.011686\n",
       "2020-08    1.008337\n",
       "Freq: M, Name: USA, Length: 488, dtype: float64"
      ]
     },
     "execution_count": 121,
     "metadata": {},
     "output_type": "execute_result"
    }
   ],
   "source": [
    "foo = (bond_returns['USA'].pct_change() + 1) / (1 + cash_rate)\n",
    "foo"
   ]
  },
  {
   "cell_type": "code",
   "execution_count": 122,
   "metadata": {},
   "outputs": [
    {
     "data": {
      "text/plain": [
       "date\n",
       "1980-01         NaN\n",
       "1980-02    0.891270\n",
       "1980-03    0.853131\n",
       "1980-04    0.897553\n",
       "1980-05    0.959532\n",
       "             ...   \n",
       "2020-04    0.141696\n",
       "2020-05    0.141187\n",
       "2020-06    0.140641\n",
       "2020-07    0.142285\n",
       "2020-08    0.143471\n",
       "Freq: M, Name: USA, Length: 488, dtype: float64"
      ]
     },
     "execution_count": 122,
     "metadata": {},
     "output_type": "execute_result"
    }
   ],
   "source": [
    "foo.cumprod()"
   ]
  },
  {
   "cell_type": "code",
   "execution_count": 21,
   "metadata": {},
   "outputs": [],
   "source": [
    "class InflationIndicator:\n",
    "    \n",
    "    def __init__(self, fx, cpi, m2):\n",
    "        self.streams = {\n",
    "            'fx': fx,\n",
    "            'cpi': cpi,\n",
    "            'm2': m2,\n",
    "        }\n",
    "        \n",
    "    @property\n",
    "    def signals(self):\n",
    "        return {k: signalize(v).fillna(0) for k, v in self.streams.items()}\n",
    "    \n",
    "        \n",
    "ii = InflationIndicator(fx.data.resample('M').mean(), cpi.data.resample('M').mean(), m2.data.resample('M').mean())"
   ]
  },
  {
   "cell_type": "code",
   "execution_count": 23,
   "metadata": {},
   "outputs": [
    {
     "data": {
      "text/plain": [
       "{'NOR': -0.010360791901162698,\n",
       " 'AUS': 0.06187761915048152,\n",
       " 'CAN': -0.04716536494704393,\n",
       " 'GBR': 0.013471829489351975,\n",
       " 'ESP': -0.030524589045661542,\n",
       " 'JPN': 0.017335619600877122,\n",
       " 'USA': 0.03175881012861688,\n",
       " 'SWE': -0.043567883322064856,\n",
       " 'ITA': -0.05596797262699391,\n",
       " 'DEU': 0.01437474592551874}"
      ]
     },
     "execution_count": 23,
     "metadata": {},
     "output_type": "execute_result"
    }
   ],
   "source": [
    "from scipy.stats import pearsonr, spearmanr\n",
    "\n",
    "def cor(X, Y):\n",
    "    X = X.loc[Y.index].dropna()\n",
    "    Y = Y.loc[X.index]\n",
    "    out = {}\n",
    "    for var in set(X.columns) & set(Y.columns):\n",
    "        out[var] = pearsonr(X[var], Y[var])[0]\n",
    "    return out\n",
    "\n",
    "cor(ii.signals['fx'], ii.signals['cpi'])"
   ]
  },
  {
   "cell_type": "code",
   "execution_count": 24,
   "metadata": {},
   "outputs": [
    {
     "data": {
      "text/plain": [
       "{'NOR': 0.15331605759246708,\n",
       " 'AUS': -0.134989110919333,\n",
       " 'CAN': 0.028603105614015464,\n",
       " 'GBR': 0.08902522338663009,\n",
       " 'ESP': -0.053446931654241706,\n",
       " 'JPN': 0.05402284762470076,\n",
       " 'USA': -0.21110159639552833,\n",
       " 'SWE': -0.12364257507637384,\n",
       " 'ITA': 0.011436996002204646,\n",
       " 'DEU': 0.18192476344597053}"
      ]
     },
     "execution_count": 24,
     "metadata": {},
     "output_type": "execute_result"
    }
   ],
   "source": [
    "cor(ii.signals['m2'], ii.signals['cpi'])"
   ]
  },
  {
   "cell_type": "code",
   "execution_count": 25,
   "metadata": {},
   "outputs": [
    {
     "data": {
      "text/plain": [
       "{'NOR': 0.028662543614690582,\n",
       " 'AUS': -0.04945394055469035,\n",
       " 'CAN': -0.04257913237062169,\n",
       " 'GBR': -0.008975458167432648,\n",
       " 'ESP': -0.03706943283326834,\n",
       " 'JPN': -0.054704118682282796,\n",
       " 'USA': -0.016529463145326277,\n",
       " 'SWE': 0.04051302817303618,\n",
       " 'ITA': -0.06656495700099724,\n",
       " 'DEU': 0.024313763854489724}"
      ]
     },
     "execution_count": 25,
     "metadata": {},
     "output_type": "execute_result"
    }
   ],
   "source": [
    "cor(ii.signals['fx'], ii.signals['m2'])"
   ]
  },
  {
   "cell_type": "code",
   "execution_count": null,
   "metadata": {},
   "outputs": [],
   "source": []
  }
 ],
 "metadata": {
  "kernelspec": {
   "display_name": "Python 3",
   "language": "python",
   "name": "python3"
  },
  "language_info": {
   "codemirror_mode": {
    "name": "ipython",
    "version": 3
   },
   "file_extension": ".py",
   "mimetype": "text/x-python",
   "name": "python",
   "nbconvert_exporter": "python",
   "pygments_lexer": "ipython3",
   "version": "3.7.3"
  }
 },
 "nbformat": 4,
 "nbformat_minor": 2
}
